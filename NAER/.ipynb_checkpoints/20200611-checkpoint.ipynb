{
 "cells": [
  {
   "cell_type": "code",
   "execution_count": 176,
   "metadata": {},
   "outputs": [],
   "source": [
    "import pandas as pd"
   ]
  },
  {
   "cell_type": "code",
   "execution_count": 177,
   "metadata": {},
   "outputs": [],
   "source": [
    "df = pd.read_csv('./DATA/1080930_H_11_101_1090519.csv')  "
   ]
  },
  {
   "cell_type": "code",
   "execution_count": 178,
   "metadata": {},
   "outputs": [
    {
     "data": {
      "text/plain": [
       "校代碼                 object\n",
       "學校名稱                object\n",
       "班群                  object\n",
       "科目屬性                 int64\n",
       "領域名稱                 int64\n",
       "科目名稱代碼              object\n",
       "科目名稱                object\n",
       "高一上\\n學分數           float64\n",
       "高一下\\n學分數           float64\n",
       "高二上\\n學分數           float64\n",
       "高二下\\n學分數           float64\n",
       "高三上\\n學分數           float64\n",
       "高三下\\n學分數           float64\n",
       "公私                  object\n",
       "隸屬                  object\n",
       "偏遠                  object\n",
       "縣市                  object\n",
       "規模分組                object\n",
       "全校班級總數\\n(含日夜間部)      int64\n",
       "全校普通科班級總數            int64\n",
       "高一普通科班級數            object\n",
       "Unnamed: 21        float64\n",
       "dtype: object"
      ]
     },
     "execution_count": 178,
     "metadata": {},
     "output_type": "execute_result"
    }
   ],
   "source": [
    "df.dtypes"
   ]
  },
  {
   "cell_type": "code",
   "execution_count": 179,
   "metadata": {},
   "outputs": [
    {
     "data": {
      "text/html": [
       "<div>\n",
       "<style scoped>\n",
       "    .dataframe tbody tr th:only-of-type {\n",
       "        vertical-align: middle;\n",
       "    }\n",
       "\n",
       "    .dataframe tbody tr th {\n",
       "        vertical-align: top;\n",
       "    }\n",
       "\n",
       "    .dataframe thead th {\n",
       "        text-align: right;\n",
       "    }\n",
       "</style>\n",
       "<table border=\"1\" class=\"dataframe\">\n",
       "  <thead>\n",
       "    <tr style=\"text-align: right;\">\n",
       "      <th></th>\n",
       "      <th>校代碼</th>\n",
       "      <th>學校名稱</th>\n",
       "      <th>班群</th>\n",
       "      <th>科目屬性</th>\n",
       "      <th>領域名稱</th>\n",
       "      <th>科目名稱代碼</th>\n",
       "      <th>科目名稱</th>\n",
       "      <th>高一上\\n學分數</th>\n",
       "      <th>高一下\\n學分數</th>\n",
       "      <th>高二上\\n學分數</th>\n",
       "      <th>...</th>\n",
       "      <th>高三下\\n學分數</th>\n",
       "      <th>公私</th>\n",
       "      <th>隸屬</th>\n",
       "      <th>偏遠</th>\n",
       "      <th>縣市</th>\n",
       "      <th>規模分組</th>\n",
       "      <th>全校班級總數\\n(含日夜間部)</th>\n",
       "      <th>全校普通科班級總數</th>\n",
       "      <th>高一普通科班級數</th>\n",
       "      <th>Unnamed: 21</th>\n",
       "    </tr>\n",
       "  </thead>\n",
       "  <tbody>\n",
       "    <tr>\n",
       "      <th>0</th>\n",
       "      <td>011302</td>\n",
       "      <td>私立康橋高中</td>\n",
       "      <td>S</td>\n",
       "      <td>1</td>\n",
       "      <td>2</td>\n",
       "      <td>03</td>\n",
       "      <td>補強-數學</td>\n",
       "      <td>1.0</td>\n",
       "      <td>1.0</td>\n",
       "      <td>1.0</td>\n",
       "      <td>...</td>\n",
       "      <td>2.0</td>\n",
       "      <td>私立</td>\n",
       "      <td>D</td>\n",
       "      <td>A</td>\n",
       "      <td>新北市</td>\n",
       "      <td>C</td>\n",
       "      <td>42</td>\n",
       "      <td>18</td>\n",
       "      <td>6</td>\n",
       "      <td>NaN</td>\n",
       "    </tr>\n",
       "    <tr>\n",
       "      <th>1</th>\n",
       "      <td>011302</td>\n",
       "      <td>私立康橋高中</td>\n",
       "      <td>B</td>\n",
       "      <td>1</td>\n",
       "      <td>3</td>\n",
       "      <td>09</td>\n",
       "      <td>補強-歷史</td>\n",
       "      <td>NaN</td>\n",
       "      <td>NaN</td>\n",
       "      <td>1.0</td>\n",
       "      <td>...</td>\n",
       "      <td>NaN</td>\n",
       "      <td>私立</td>\n",
       "      <td>D</td>\n",
       "      <td>A</td>\n",
       "      <td>新北市</td>\n",
       "      <td>C</td>\n",
       "      <td>42</td>\n",
       "      <td>18</td>\n",
       "      <td>6</td>\n",
       "      <td>NaN</td>\n",
       "    </tr>\n",
       "    <tr>\n",
       "      <th>2</th>\n",
       "      <td>011302</td>\n",
       "      <td>私立康橋高中</td>\n",
       "      <td>B</td>\n",
       "      <td>1</td>\n",
       "      <td>3</td>\n",
       "      <td>0A</td>\n",
       "      <td>補強-地理</td>\n",
       "      <td>NaN</td>\n",
       "      <td>NaN</td>\n",
       "      <td>NaN</td>\n",
       "      <td>...</td>\n",
       "      <td>NaN</td>\n",
       "      <td>私立</td>\n",
       "      <td>D</td>\n",
       "      <td>A</td>\n",
       "      <td>新北市</td>\n",
       "      <td>C</td>\n",
       "      <td>42</td>\n",
       "      <td>18</td>\n",
       "      <td>6</td>\n",
       "      <td>NaN</td>\n",
       "    </tr>\n",
       "    <tr>\n",
       "      <th>3</th>\n",
       "      <td>011306</td>\n",
       "      <td>私立金陵女中</td>\n",
       "      <td>A</td>\n",
       "      <td>1</td>\n",
       "      <td>1</td>\n",
       "      <td>02</td>\n",
       "      <td>補強-英語文</td>\n",
       "      <td>NaN</td>\n",
       "      <td>NaN</td>\n",
       "      <td>1.0</td>\n",
       "      <td>...</td>\n",
       "      <td>NaN</td>\n",
       "      <td>私立</td>\n",
       "      <td>D</td>\n",
       "      <td>A</td>\n",
       "      <td>新北市</td>\n",
       "      <td>C</td>\n",
       "      <td>44</td>\n",
       "      <td>17</td>\n",
       "      <td>5</td>\n",
       "      <td>NaN</td>\n",
       "    </tr>\n",
       "    <tr>\n",
       "      <th>4</th>\n",
       "      <td>011306</td>\n",
       "      <td>私立金陵女中</td>\n",
       "      <td>B</td>\n",
       "      <td>1</td>\n",
       "      <td>1</td>\n",
       "      <td>02</td>\n",
       "      <td>補強-英語文</td>\n",
       "      <td>NaN</td>\n",
       "      <td>NaN</td>\n",
       "      <td>NaN</td>\n",
       "      <td>...</td>\n",
       "      <td>NaN</td>\n",
       "      <td>私立</td>\n",
       "      <td>D</td>\n",
       "      <td>A</td>\n",
       "      <td>新北市</td>\n",
       "      <td>C</td>\n",
       "      <td>44</td>\n",
       "      <td>17</td>\n",
       "      <td>5</td>\n",
       "      <td>NaN</td>\n",
       "    </tr>\n",
       "  </tbody>\n",
       "</table>\n",
       "<p>5 rows × 22 columns</p>\n",
       "</div>"
      ],
      "text/plain": [
       "      校代碼    學校名稱 班群  科目屬性  領域名稱 科目名稱代碼    科目名稱  高一上\\n學分數  高一下\\n學分數  高二上\\n學分數  \\\n",
       "0  011302  私立康橋高中  S     1     2     03   補強-數學       1.0       1.0       1.0   \n",
       "1  011302  私立康橋高中  B     1     3     09   補強-歷史       NaN       NaN       1.0   \n",
       "2  011302  私立康橋高中  B     1     3     0A   補強-地理       NaN       NaN       NaN   \n",
       "3  011306  私立金陵女中  A     1     1     02  補強-英語文       NaN       NaN       1.0   \n",
       "4  011306  私立金陵女中  B     1     1     02  補強-英語文       NaN       NaN       NaN   \n",
       "\n",
       "   ...  高三下\\n學分數  公私  隸屬 偏遠   縣市 規模分組 全校班級總數\\n(含日夜間部) 全校普通科班級總數  高一普通科班級數  \\\n",
       "0  ...       2.0  私立   D  A  新北市    C              42        18         6   \n",
       "1  ...       NaN  私立   D  A  新北市    C              42        18         6   \n",
       "2  ...       NaN  私立   D  A  新北市    C              42        18         6   \n",
       "3  ...       NaN  私立   D  A  新北市    C              44        17         5   \n",
       "4  ...       NaN  私立   D  A  新北市    C              44        17         5   \n",
       "\n",
       "   Unnamed: 21  \n",
       "0          NaN  \n",
       "1          NaN  \n",
       "2          NaN  \n",
       "3          NaN  \n",
       "4          NaN  \n",
       "\n",
       "[5 rows x 22 columns]"
      ]
     },
     "execution_count": 179,
     "metadata": {},
     "output_type": "execute_result"
    }
   ],
   "source": [
    "df.head()"
   ]
  },
  {
   "cell_type": "code",
   "execution_count": 180,
   "metadata": {},
   "outputs": [],
   "source": [
    "courseName = df.groupby(df['科目名稱'])"
   ]
  },
  {
   "cell_type": "code",
   "execution_count": 181,
   "metadata": {},
   "outputs": [
    {
     "name": "stdout",
     "output_type": "stream",
     "text": [
      "            0\n",
      "科目名稱         \n",
      "補強-生活科技     1\n",
      "補強-美術       1\n",
      "補強-資訊科技     2\n",
      "補強-地球科學    26\n",
      "補強-生物      33\n",
      "補強-公民與社會   44\n",
      "補強-地理      55\n",
      "補強-歷史      58\n",
      "補強-化學      66\n",
      "補強-物理      82\n",
      "補強-國語文    102\n",
      "補強-英語文    180\n",
      "補強-數學     194\n"
     ]
    }
   ],
   "source": [
    "print(pd.DataFrame(courseName.size()).sort_values(by=0))"
   ]
  },
  {
   "cell_type": "code",
   "execution_count": 182,
   "metadata": {},
   "outputs": [
    {
     "name": "stdout",
     "output_type": "stream",
     "text": [
      "            0\n",
      "科目名稱         \n",
      "補強-生活科技     1\n",
      "補強-資訊科技     1\n",
      "補強-地球科學    26\n",
      "補強-生物      29\n",
      "補強-公民與社會   42\n",
      "補強-地理      48\n",
      "補強-歷史      52\n",
      "補強-化學      60\n",
      "補強-物理      76\n",
      "補強-國語文     89\n",
      "補強-英語文    166\n",
      "補強-數學     175\n"
     ]
    }
   ],
   "source": [
    "print(pd.DataFrame(df.loc[df['偏遠'] == 'A'].groupby(df['科目名稱']).size()).sort_values(by=0))"
   ]
  },
  {
   "cell_type": "code",
   "execution_count": 183,
   "metadata": {},
   "outputs": [
    {
     "data": {
      "text/plain": [
       "科目名稱\n",
       "補強-公民與社會    2\n",
       "補強-化學       2\n",
       "補強-國語文      2\n",
       "補強-地理       2\n",
       "補強-數學       4\n",
       "補強-歷史       2\n",
       "補強-物理       2\n",
       "補強-生物       1\n",
       "補強-美術       1\n",
       "補強-英語文      3\n",
       "補強-資訊科技     1\n",
       "dtype: int64"
      ]
     },
     "execution_count": 183,
     "metadata": {},
     "output_type": "execute_result"
    }
   ],
   "source": [
    "df.loc[df['偏遠'] == 'B'].groupby(df['科目名稱']).size()"
   ]
  },
  {
   "cell_type": "code",
   "execution_count": 184,
   "metadata": {},
   "outputs": [
    {
     "data": {
      "text/plain": [
       "科目名稱\n",
       "補強-化學     1\n",
       "補強-國語文    6\n",
       "補強-數學     8\n",
       "補強-物理     1\n",
       "補強-英語文    4\n",
       "dtype: int64"
      ]
     },
     "execution_count": 184,
     "metadata": {},
     "output_type": "execute_result"
    }
   ],
   "source": [
    "df.loc[df['偏遠'] == 'C'].groupby(df['科目名稱']).size()"
   ]
  },
  {
   "cell_type": "code",
   "execution_count": 185,
   "metadata": {},
   "outputs": [
    {
     "data": {
      "text/plain": [
       "科目名稱\n",
       "補強-化學     1\n",
       "補強-國語文    1\n",
       "補強-地理     1\n",
       "補強-數學     1\n",
       "補強-生物     1\n",
       "補強-英語文    1\n",
       "dtype: int64"
      ]
     },
     "execution_count": 185,
     "metadata": {},
     "output_type": "execute_result"
    }
   ],
   "source": [
    "df.loc[df['偏遠'] == 'D'].groupby(df['科目名稱']).size()"
   ]
  },
  {
   "cell_type": "code",
   "execution_count": 186,
   "metadata": {},
   "outputs": [
    {
     "data": {
      "text/plain": [
       "科目名稱\n",
       "補強-化學     2\n",
       "補強-國語文    4\n",
       "補強-地理     4\n",
       "補強-數學     6\n",
       "補強-歷史     4\n",
       "補強-物理     3\n",
       "補強-生物     2\n",
       "補強-英語文    6\n",
       "dtype: int64"
      ]
     },
     "execution_count": 186,
     "metadata": {},
     "output_type": "execute_result"
    }
   ],
   "source": [
    "df.loc[df['偏遠'] == 'F'].groupby(df['科目名稱']).size()"
   ]
  },
  {
   "cell_type": "code",
   "execution_count": 187,
   "metadata": {},
   "outputs": [
    {
     "data": {
      "application/vnd.plotly.v1+json": {
       "config": {
        "plotlyServerURL": "https://plot.ly"
       },
       "data": [
        {
         "name": "A",
         "type": "bar",
         "x": [
          "補強-生活科技",
          "補強-美術",
          "補強-資訊科技",
          "補強-地球科學",
          "補強-生物",
          "補強-公民與社會",
          "補強-地理",
          "補強-歷史",
          "補強-化學",
          "補強-物理",
          "補強-國語文",
          "補強-英語文",
          "補強-數學"
         ],
         "y": [
          1,
          0,
          1,
          26,
          29,
          42,
          48,
          52,
          60,
          76,
          89,
          166,
          175
         ]
        },
        {
         "name": "B",
         "type": "bar",
         "x": [
          "補強-生活科技",
          "補強-美術",
          "補強-資訊科技",
          "補強-地球科學",
          "補強-生物",
          "補強-公民與社會",
          "補強-地理",
          "補強-歷史",
          "補強-化學",
          "補強-物理",
          "補強-國語文",
          "補強-英語文",
          "補強-數學"
         ],
         "y": [
          0,
          1,
          1,
          0,
          1,
          2,
          2,
          2,
          2,
          2,
          2,
          3,
          4
         ]
        },
        {
         "name": "C",
         "type": "bar",
         "x": [
          "補強-生活科技",
          "補強-美術",
          "補強-資訊科技",
          "補強-地球科學",
          "補強-生物",
          "補強-公民與社會",
          "補強-地理",
          "補強-歷史",
          "補強-化學",
          "補強-物理",
          "補強-國語文",
          "補強-英語文",
          "補強-數學"
         ],
         "y": [
          0,
          0,
          0,
          0,
          0,
          0,
          0,
          0,
          1,
          1,
          6,
          4,
          8
         ]
        },
        {
         "name": "D",
         "type": "bar",
         "x": [
          "補強-生活科技",
          "補強-美術",
          "補強-資訊科技",
          "補強-地球科學",
          "補強-生物",
          "補強-公民與社會",
          "補強-地理",
          "補強-歷史",
          "補強-化學",
          "補強-物理",
          "補強-國語文",
          "補強-英語文",
          "補強-數學"
         ],
         "y": [
          0,
          0,
          0,
          0,
          1,
          0,
          1,
          0,
          1,
          0,
          1,
          1,
          1
         ]
        },
        {
         "name": "F",
         "type": "bar",
         "x": [
          "補強-生活科技",
          "補強-美術",
          "補強-資訊科技",
          "補強-地球科學",
          "補強-生物",
          "補強-公民與社會",
          "補強-地理",
          "補強-歷史",
          "補強-化學",
          "補強-物理",
          "補強-國語文",
          "補強-英語文",
          "補強-數學"
         ],
         "y": [
          0,
          0,
          0,
          0,
          2,
          0,
          4,
          4,
          2,
          3,
          4,
          6,
          6
         ]
        }
       ],
       "layout": {
        "barmode": "stack",
        "template": {
         "data": {
          "bar": [
           {
            "error_x": {
             "color": "#2a3f5f"
            },
            "error_y": {
             "color": "#2a3f5f"
            },
            "marker": {
             "line": {
              "color": "#E5ECF6",
              "width": 0.5
             }
            },
            "type": "bar"
           }
          ],
          "barpolar": [
           {
            "marker": {
             "line": {
              "color": "#E5ECF6",
              "width": 0.5
             }
            },
            "type": "barpolar"
           }
          ],
          "carpet": [
           {
            "aaxis": {
             "endlinecolor": "#2a3f5f",
             "gridcolor": "white",
             "linecolor": "white",
             "minorgridcolor": "white",
             "startlinecolor": "#2a3f5f"
            },
            "baxis": {
             "endlinecolor": "#2a3f5f",
             "gridcolor": "white",
             "linecolor": "white",
             "minorgridcolor": "white",
             "startlinecolor": "#2a3f5f"
            },
            "type": "carpet"
           }
          ],
          "choropleth": [
           {
            "colorbar": {
             "outlinewidth": 0,
             "ticks": ""
            },
            "type": "choropleth"
           }
          ],
          "contour": [
           {
            "colorbar": {
             "outlinewidth": 0,
             "ticks": ""
            },
            "colorscale": [
             [
              0,
              "#0d0887"
             ],
             [
              0.1111111111111111,
              "#46039f"
             ],
             [
              0.2222222222222222,
              "#7201a8"
             ],
             [
              0.3333333333333333,
              "#9c179e"
             ],
             [
              0.4444444444444444,
              "#bd3786"
             ],
             [
              0.5555555555555556,
              "#d8576b"
             ],
             [
              0.6666666666666666,
              "#ed7953"
             ],
             [
              0.7777777777777778,
              "#fb9f3a"
             ],
             [
              0.8888888888888888,
              "#fdca26"
             ],
             [
              1,
              "#f0f921"
             ]
            ],
            "type": "contour"
           }
          ],
          "contourcarpet": [
           {
            "colorbar": {
             "outlinewidth": 0,
             "ticks": ""
            },
            "type": "contourcarpet"
           }
          ],
          "heatmap": [
           {
            "colorbar": {
             "outlinewidth": 0,
             "ticks": ""
            },
            "colorscale": [
             [
              0,
              "#0d0887"
             ],
             [
              0.1111111111111111,
              "#46039f"
             ],
             [
              0.2222222222222222,
              "#7201a8"
             ],
             [
              0.3333333333333333,
              "#9c179e"
             ],
             [
              0.4444444444444444,
              "#bd3786"
             ],
             [
              0.5555555555555556,
              "#d8576b"
             ],
             [
              0.6666666666666666,
              "#ed7953"
             ],
             [
              0.7777777777777778,
              "#fb9f3a"
             ],
             [
              0.8888888888888888,
              "#fdca26"
             ],
             [
              1,
              "#f0f921"
             ]
            ],
            "type": "heatmap"
           }
          ],
          "heatmapgl": [
           {
            "colorbar": {
             "outlinewidth": 0,
             "ticks": ""
            },
            "colorscale": [
             [
              0,
              "#0d0887"
             ],
             [
              0.1111111111111111,
              "#46039f"
             ],
             [
              0.2222222222222222,
              "#7201a8"
             ],
             [
              0.3333333333333333,
              "#9c179e"
             ],
             [
              0.4444444444444444,
              "#bd3786"
             ],
             [
              0.5555555555555556,
              "#d8576b"
             ],
             [
              0.6666666666666666,
              "#ed7953"
             ],
             [
              0.7777777777777778,
              "#fb9f3a"
             ],
             [
              0.8888888888888888,
              "#fdca26"
             ],
             [
              1,
              "#f0f921"
             ]
            ],
            "type": "heatmapgl"
           }
          ],
          "histogram": [
           {
            "marker": {
             "colorbar": {
              "outlinewidth": 0,
              "ticks": ""
             }
            },
            "type": "histogram"
           }
          ],
          "histogram2d": [
           {
            "colorbar": {
             "outlinewidth": 0,
             "ticks": ""
            },
            "colorscale": [
             [
              0,
              "#0d0887"
             ],
             [
              0.1111111111111111,
              "#46039f"
             ],
             [
              0.2222222222222222,
              "#7201a8"
             ],
             [
              0.3333333333333333,
              "#9c179e"
             ],
             [
              0.4444444444444444,
              "#bd3786"
             ],
             [
              0.5555555555555556,
              "#d8576b"
             ],
             [
              0.6666666666666666,
              "#ed7953"
             ],
             [
              0.7777777777777778,
              "#fb9f3a"
             ],
             [
              0.8888888888888888,
              "#fdca26"
             ],
             [
              1,
              "#f0f921"
             ]
            ],
            "type": "histogram2d"
           }
          ],
          "histogram2dcontour": [
           {
            "colorbar": {
             "outlinewidth": 0,
             "ticks": ""
            },
            "colorscale": [
             [
              0,
              "#0d0887"
             ],
             [
              0.1111111111111111,
              "#46039f"
             ],
             [
              0.2222222222222222,
              "#7201a8"
             ],
             [
              0.3333333333333333,
              "#9c179e"
             ],
             [
              0.4444444444444444,
              "#bd3786"
             ],
             [
              0.5555555555555556,
              "#d8576b"
             ],
             [
              0.6666666666666666,
              "#ed7953"
             ],
             [
              0.7777777777777778,
              "#fb9f3a"
             ],
             [
              0.8888888888888888,
              "#fdca26"
             ],
             [
              1,
              "#f0f921"
             ]
            ],
            "type": "histogram2dcontour"
           }
          ],
          "mesh3d": [
           {
            "colorbar": {
             "outlinewidth": 0,
             "ticks": ""
            },
            "type": "mesh3d"
           }
          ],
          "parcoords": [
           {
            "line": {
             "colorbar": {
              "outlinewidth": 0,
              "ticks": ""
             }
            },
            "type": "parcoords"
           }
          ],
          "pie": [
           {
            "automargin": true,
            "type": "pie"
           }
          ],
          "scatter": [
           {
            "marker": {
             "colorbar": {
              "outlinewidth": 0,
              "ticks": ""
             }
            },
            "type": "scatter"
           }
          ],
          "scatter3d": [
           {
            "line": {
             "colorbar": {
              "outlinewidth": 0,
              "ticks": ""
             }
            },
            "marker": {
             "colorbar": {
              "outlinewidth": 0,
              "ticks": ""
             }
            },
            "type": "scatter3d"
           }
          ],
          "scattercarpet": [
           {
            "marker": {
             "colorbar": {
              "outlinewidth": 0,
              "ticks": ""
             }
            },
            "type": "scattercarpet"
           }
          ],
          "scattergeo": [
           {
            "marker": {
             "colorbar": {
              "outlinewidth": 0,
              "ticks": ""
             }
            },
            "type": "scattergeo"
           }
          ],
          "scattergl": [
           {
            "marker": {
             "colorbar": {
              "outlinewidth": 0,
              "ticks": ""
             }
            },
            "type": "scattergl"
           }
          ],
          "scattermapbox": [
           {
            "marker": {
             "colorbar": {
              "outlinewidth": 0,
              "ticks": ""
             }
            },
            "type": "scattermapbox"
           }
          ],
          "scatterpolar": [
           {
            "marker": {
             "colorbar": {
              "outlinewidth": 0,
              "ticks": ""
             }
            },
            "type": "scatterpolar"
           }
          ],
          "scatterpolargl": [
           {
            "marker": {
             "colorbar": {
              "outlinewidth": 0,
              "ticks": ""
             }
            },
            "type": "scatterpolargl"
           }
          ],
          "scatterternary": [
           {
            "marker": {
             "colorbar": {
              "outlinewidth": 0,
              "ticks": ""
             }
            },
            "type": "scatterternary"
           }
          ],
          "surface": [
           {
            "colorbar": {
             "outlinewidth": 0,
             "ticks": ""
            },
            "colorscale": [
             [
              0,
              "#0d0887"
             ],
             [
              0.1111111111111111,
              "#46039f"
             ],
             [
              0.2222222222222222,
              "#7201a8"
             ],
             [
              0.3333333333333333,
              "#9c179e"
             ],
             [
              0.4444444444444444,
              "#bd3786"
             ],
             [
              0.5555555555555556,
              "#d8576b"
             ],
             [
              0.6666666666666666,
              "#ed7953"
             ],
             [
              0.7777777777777778,
              "#fb9f3a"
             ],
             [
              0.8888888888888888,
              "#fdca26"
             ],
             [
              1,
              "#f0f921"
             ]
            ],
            "type": "surface"
           }
          ],
          "table": [
           {
            "cells": {
             "fill": {
              "color": "#EBF0F8"
             },
             "line": {
              "color": "white"
             }
            },
            "header": {
             "fill": {
              "color": "#C8D4E3"
             },
             "line": {
              "color": "white"
             }
            },
            "type": "table"
           }
          ]
         },
         "layout": {
          "annotationdefaults": {
           "arrowcolor": "#2a3f5f",
           "arrowhead": 0,
           "arrowwidth": 1
          },
          "coloraxis": {
           "colorbar": {
            "outlinewidth": 0,
            "ticks": ""
           }
          },
          "colorscale": {
           "diverging": [
            [
             0,
             "#8e0152"
            ],
            [
             0.1,
             "#c51b7d"
            ],
            [
             0.2,
             "#de77ae"
            ],
            [
             0.3,
             "#f1b6da"
            ],
            [
             0.4,
             "#fde0ef"
            ],
            [
             0.5,
             "#f7f7f7"
            ],
            [
             0.6,
             "#e6f5d0"
            ],
            [
             0.7,
             "#b8e186"
            ],
            [
             0.8,
             "#7fbc41"
            ],
            [
             0.9,
             "#4d9221"
            ],
            [
             1,
             "#276419"
            ]
           ],
           "sequential": [
            [
             0,
             "#0d0887"
            ],
            [
             0.1111111111111111,
             "#46039f"
            ],
            [
             0.2222222222222222,
             "#7201a8"
            ],
            [
             0.3333333333333333,
             "#9c179e"
            ],
            [
             0.4444444444444444,
             "#bd3786"
            ],
            [
             0.5555555555555556,
             "#d8576b"
            ],
            [
             0.6666666666666666,
             "#ed7953"
            ],
            [
             0.7777777777777778,
             "#fb9f3a"
            ],
            [
             0.8888888888888888,
             "#fdca26"
            ],
            [
             1,
             "#f0f921"
            ]
           ],
           "sequentialminus": [
            [
             0,
             "#0d0887"
            ],
            [
             0.1111111111111111,
             "#46039f"
            ],
            [
             0.2222222222222222,
             "#7201a8"
            ],
            [
             0.3333333333333333,
             "#9c179e"
            ],
            [
             0.4444444444444444,
             "#bd3786"
            ],
            [
             0.5555555555555556,
             "#d8576b"
            ],
            [
             0.6666666666666666,
             "#ed7953"
            ],
            [
             0.7777777777777778,
             "#fb9f3a"
            ],
            [
             0.8888888888888888,
             "#fdca26"
            ],
            [
             1,
             "#f0f921"
            ]
           ]
          },
          "colorway": [
           "#636efa",
           "#EF553B",
           "#00cc96",
           "#ab63fa",
           "#FFA15A",
           "#19d3f3",
           "#FF6692",
           "#B6E880",
           "#FF97FF",
           "#FECB52"
          ],
          "font": {
           "color": "#2a3f5f"
          },
          "geo": {
           "bgcolor": "white",
           "lakecolor": "white",
           "landcolor": "#E5ECF6",
           "showlakes": true,
           "showland": true,
           "subunitcolor": "white"
          },
          "hoverlabel": {
           "align": "left"
          },
          "hovermode": "closest",
          "mapbox": {
           "style": "light"
          },
          "paper_bgcolor": "white",
          "plot_bgcolor": "#E5ECF6",
          "polar": {
           "angularaxis": {
            "gridcolor": "white",
            "linecolor": "white",
            "ticks": ""
           },
           "bgcolor": "#E5ECF6",
           "radialaxis": {
            "gridcolor": "white",
            "linecolor": "white",
            "ticks": ""
           }
          },
          "scene": {
           "xaxis": {
            "backgroundcolor": "#E5ECF6",
            "gridcolor": "white",
            "gridwidth": 2,
            "linecolor": "white",
            "showbackground": true,
            "ticks": "",
            "zerolinecolor": "white"
           },
           "yaxis": {
            "backgroundcolor": "#E5ECF6",
            "gridcolor": "white",
            "gridwidth": 2,
            "linecolor": "white",
            "showbackground": true,
            "ticks": "",
            "zerolinecolor": "white"
           },
           "zaxis": {
            "backgroundcolor": "#E5ECF6",
            "gridcolor": "white",
            "gridwidth": 2,
            "linecolor": "white",
            "showbackground": true,
            "ticks": "",
            "zerolinecolor": "white"
           }
          },
          "shapedefaults": {
           "line": {
            "color": "#2a3f5f"
           }
          },
          "ternary": {
           "aaxis": {
            "gridcolor": "white",
            "linecolor": "white",
            "ticks": ""
           },
           "baxis": {
            "gridcolor": "white",
            "linecolor": "white",
            "ticks": ""
           },
           "bgcolor": "#E5ECF6",
           "caxis": {
            "gridcolor": "white",
            "linecolor": "white",
            "ticks": ""
           }
          },
          "title": {
           "x": 0.05
          },
          "xaxis": {
           "automargin": true,
           "gridcolor": "white",
           "linecolor": "white",
           "ticks": "",
           "title": {
            "standoff": 15
           },
           "zerolinecolor": "white",
           "zerolinewidth": 2
          },
          "yaxis": {
           "automargin": true,
           "gridcolor": "white",
           "linecolor": "white",
           "ticks": "",
           "title": {
            "standoff": 15
           },
           "zerolinecolor": "white",
           "zerolinewidth": 2
          }
         }
        }
       }
      },
      "text/html": [
       "<div>\n",
       "        \n",
       "        \n",
       "            <div id=\"dac76038-04ff-4dbd-b2d5-cd22703d0695\" class=\"plotly-graph-div\" style=\"height:525px; width:100%;\"></div>\n",
       "            <script type=\"text/javascript\">\n",
       "                require([\"plotly\"], function(Plotly) {\n",
       "                    window.PLOTLYENV=window.PLOTLYENV || {};\n",
       "                    \n",
       "                if (document.getElementById(\"dac76038-04ff-4dbd-b2d5-cd22703d0695\")) {\n",
       "                    Plotly.newPlot(\n",
       "                        'dac76038-04ff-4dbd-b2d5-cd22703d0695',\n",
       "                        [{\"name\": \"A\", \"type\": \"bar\", \"x\": [\"\\u88dc\\u5f37-\\u751f\\u6d3b\\u79d1\\u6280\", \"\\u88dc\\u5f37-\\u7f8e\\u8853\", \"\\u88dc\\u5f37-\\u8cc7\\u8a0a\\u79d1\\u6280\", \"\\u88dc\\u5f37-\\u5730\\u7403\\u79d1\\u5b78\", \"\\u88dc\\u5f37-\\u751f\\u7269\", \"\\u88dc\\u5f37-\\u516c\\u6c11\\u8207\\u793e\\u6703\", \"\\u88dc\\u5f37-\\u5730\\u7406\", \"\\u88dc\\u5f37-\\u6b77\\u53f2\", \"\\u88dc\\u5f37-\\u5316\\u5b78\", \"\\u88dc\\u5f37-\\u7269\\u7406\", \"\\u88dc\\u5f37-\\u570b\\u8a9e\\u6587\", \"\\u88dc\\u5f37-\\u82f1\\u8a9e\\u6587\", \"\\u88dc\\u5f37-\\u6578\\u5b78\"], \"y\": [1, 0, 1, 26, 29, 42, 48, 52, 60, 76, 89, 166, 175]}, {\"name\": \"B\", \"type\": \"bar\", \"x\": [\"\\u88dc\\u5f37-\\u751f\\u6d3b\\u79d1\\u6280\", \"\\u88dc\\u5f37-\\u7f8e\\u8853\", \"\\u88dc\\u5f37-\\u8cc7\\u8a0a\\u79d1\\u6280\", \"\\u88dc\\u5f37-\\u5730\\u7403\\u79d1\\u5b78\", \"\\u88dc\\u5f37-\\u751f\\u7269\", \"\\u88dc\\u5f37-\\u516c\\u6c11\\u8207\\u793e\\u6703\", \"\\u88dc\\u5f37-\\u5730\\u7406\", \"\\u88dc\\u5f37-\\u6b77\\u53f2\", \"\\u88dc\\u5f37-\\u5316\\u5b78\", \"\\u88dc\\u5f37-\\u7269\\u7406\", \"\\u88dc\\u5f37-\\u570b\\u8a9e\\u6587\", \"\\u88dc\\u5f37-\\u82f1\\u8a9e\\u6587\", \"\\u88dc\\u5f37-\\u6578\\u5b78\"], \"y\": [0, 1, 1, 0, 1, 2, 2, 2, 2, 2, 2, 3, 4]}, {\"name\": \"C\", \"type\": \"bar\", \"x\": [\"\\u88dc\\u5f37-\\u751f\\u6d3b\\u79d1\\u6280\", \"\\u88dc\\u5f37-\\u7f8e\\u8853\", \"\\u88dc\\u5f37-\\u8cc7\\u8a0a\\u79d1\\u6280\", \"\\u88dc\\u5f37-\\u5730\\u7403\\u79d1\\u5b78\", \"\\u88dc\\u5f37-\\u751f\\u7269\", \"\\u88dc\\u5f37-\\u516c\\u6c11\\u8207\\u793e\\u6703\", \"\\u88dc\\u5f37-\\u5730\\u7406\", \"\\u88dc\\u5f37-\\u6b77\\u53f2\", \"\\u88dc\\u5f37-\\u5316\\u5b78\", \"\\u88dc\\u5f37-\\u7269\\u7406\", \"\\u88dc\\u5f37-\\u570b\\u8a9e\\u6587\", \"\\u88dc\\u5f37-\\u82f1\\u8a9e\\u6587\", \"\\u88dc\\u5f37-\\u6578\\u5b78\"], \"y\": [0, 0, 0, 0, 0, 0, 0, 0, 1, 1, 6, 4, 8]}, {\"name\": \"D\", \"type\": \"bar\", \"x\": [\"\\u88dc\\u5f37-\\u751f\\u6d3b\\u79d1\\u6280\", \"\\u88dc\\u5f37-\\u7f8e\\u8853\", \"\\u88dc\\u5f37-\\u8cc7\\u8a0a\\u79d1\\u6280\", \"\\u88dc\\u5f37-\\u5730\\u7403\\u79d1\\u5b78\", \"\\u88dc\\u5f37-\\u751f\\u7269\", \"\\u88dc\\u5f37-\\u516c\\u6c11\\u8207\\u793e\\u6703\", \"\\u88dc\\u5f37-\\u5730\\u7406\", \"\\u88dc\\u5f37-\\u6b77\\u53f2\", \"\\u88dc\\u5f37-\\u5316\\u5b78\", \"\\u88dc\\u5f37-\\u7269\\u7406\", \"\\u88dc\\u5f37-\\u570b\\u8a9e\\u6587\", \"\\u88dc\\u5f37-\\u82f1\\u8a9e\\u6587\", \"\\u88dc\\u5f37-\\u6578\\u5b78\"], \"y\": [0, 0, 0, 0, 1, 0, 1, 0, 1, 0, 1, 1, 1]}, {\"name\": \"F\", \"type\": \"bar\", \"x\": [\"\\u88dc\\u5f37-\\u751f\\u6d3b\\u79d1\\u6280\", \"\\u88dc\\u5f37-\\u7f8e\\u8853\", \"\\u88dc\\u5f37-\\u8cc7\\u8a0a\\u79d1\\u6280\", \"\\u88dc\\u5f37-\\u5730\\u7403\\u79d1\\u5b78\", \"\\u88dc\\u5f37-\\u751f\\u7269\", \"\\u88dc\\u5f37-\\u516c\\u6c11\\u8207\\u793e\\u6703\", \"\\u88dc\\u5f37-\\u5730\\u7406\", \"\\u88dc\\u5f37-\\u6b77\\u53f2\", \"\\u88dc\\u5f37-\\u5316\\u5b78\", \"\\u88dc\\u5f37-\\u7269\\u7406\", \"\\u88dc\\u5f37-\\u570b\\u8a9e\\u6587\", \"\\u88dc\\u5f37-\\u82f1\\u8a9e\\u6587\", \"\\u88dc\\u5f37-\\u6578\\u5b78\"], \"y\": [0, 0, 0, 0, 2, 0, 4, 4, 2, 3, 4, 6, 6]}],\n",
       "                        {\"barmode\": \"stack\", \"template\": {\"data\": {\"bar\": [{\"error_x\": {\"color\": \"#2a3f5f\"}, \"error_y\": {\"color\": \"#2a3f5f\"}, \"marker\": {\"line\": {\"color\": \"#E5ECF6\", \"width\": 0.5}}, \"type\": \"bar\"}], \"barpolar\": [{\"marker\": {\"line\": {\"color\": \"#E5ECF6\", \"width\": 0.5}}, \"type\": \"barpolar\"}], \"carpet\": [{\"aaxis\": {\"endlinecolor\": \"#2a3f5f\", \"gridcolor\": \"white\", \"linecolor\": \"white\", \"minorgridcolor\": \"white\", \"startlinecolor\": \"#2a3f5f\"}, \"baxis\": {\"endlinecolor\": \"#2a3f5f\", \"gridcolor\": \"white\", \"linecolor\": \"white\", \"minorgridcolor\": \"white\", \"startlinecolor\": \"#2a3f5f\"}, \"type\": \"carpet\"}], \"choropleth\": [{\"colorbar\": {\"outlinewidth\": 0, \"ticks\": \"\"}, \"type\": \"choropleth\"}], \"contour\": [{\"colorbar\": {\"outlinewidth\": 0, \"ticks\": \"\"}, \"colorscale\": [[0.0, \"#0d0887\"], [0.1111111111111111, \"#46039f\"], [0.2222222222222222, \"#7201a8\"], [0.3333333333333333, \"#9c179e\"], [0.4444444444444444, \"#bd3786\"], [0.5555555555555556, \"#d8576b\"], [0.6666666666666666, \"#ed7953\"], [0.7777777777777778, \"#fb9f3a\"], [0.8888888888888888, \"#fdca26\"], [1.0, \"#f0f921\"]], \"type\": \"contour\"}], \"contourcarpet\": [{\"colorbar\": {\"outlinewidth\": 0, \"ticks\": \"\"}, \"type\": \"contourcarpet\"}], \"heatmap\": [{\"colorbar\": {\"outlinewidth\": 0, \"ticks\": \"\"}, \"colorscale\": [[0.0, \"#0d0887\"], [0.1111111111111111, \"#46039f\"], [0.2222222222222222, \"#7201a8\"], [0.3333333333333333, \"#9c179e\"], [0.4444444444444444, \"#bd3786\"], [0.5555555555555556, \"#d8576b\"], [0.6666666666666666, \"#ed7953\"], [0.7777777777777778, \"#fb9f3a\"], [0.8888888888888888, \"#fdca26\"], [1.0, \"#f0f921\"]], \"type\": \"heatmap\"}], \"heatmapgl\": [{\"colorbar\": {\"outlinewidth\": 0, \"ticks\": \"\"}, \"colorscale\": [[0.0, \"#0d0887\"], [0.1111111111111111, \"#46039f\"], [0.2222222222222222, \"#7201a8\"], [0.3333333333333333, \"#9c179e\"], [0.4444444444444444, \"#bd3786\"], [0.5555555555555556, \"#d8576b\"], [0.6666666666666666, \"#ed7953\"], [0.7777777777777778, \"#fb9f3a\"], [0.8888888888888888, \"#fdca26\"], [1.0, \"#f0f921\"]], \"type\": \"heatmapgl\"}], \"histogram\": [{\"marker\": {\"colorbar\": {\"outlinewidth\": 0, \"ticks\": \"\"}}, \"type\": \"histogram\"}], \"histogram2d\": [{\"colorbar\": {\"outlinewidth\": 0, \"ticks\": \"\"}, \"colorscale\": [[0.0, \"#0d0887\"], [0.1111111111111111, \"#46039f\"], [0.2222222222222222, \"#7201a8\"], [0.3333333333333333, \"#9c179e\"], [0.4444444444444444, \"#bd3786\"], [0.5555555555555556, \"#d8576b\"], [0.6666666666666666, \"#ed7953\"], [0.7777777777777778, \"#fb9f3a\"], [0.8888888888888888, \"#fdca26\"], [1.0, \"#f0f921\"]], \"type\": \"histogram2d\"}], \"histogram2dcontour\": [{\"colorbar\": {\"outlinewidth\": 0, \"ticks\": \"\"}, \"colorscale\": [[0.0, \"#0d0887\"], [0.1111111111111111, \"#46039f\"], [0.2222222222222222, \"#7201a8\"], [0.3333333333333333, \"#9c179e\"], [0.4444444444444444, \"#bd3786\"], [0.5555555555555556, \"#d8576b\"], [0.6666666666666666, \"#ed7953\"], [0.7777777777777778, \"#fb9f3a\"], [0.8888888888888888, \"#fdca26\"], [1.0, \"#f0f921\"]], \"type\": \"histogram2dcontour\"}], \"mesh3d\": [{\"colorbar\": {\"outlinewidth\": 0, \"ticks\": \"\"}, \"type\": \"mesh3d\"}], \"parcoords\": [{\"line\": {\"colorbar\": {\"outlinewidth\": 0, \"ticks\": \"\"}}, \"type\": \"parcoords\"}], \"pie\": [{\"automargin\": true, \"type\": \"pie\"}], \"scatter\": [{\"marker\": {\"colorbar\": {\"outlinewidth\": 0, \"ticks\": \"\"}}, \"type\": \"scatter\"}], \"scatter3d\": [{\"line\": {\"colorbar\": {\"outlinewidth\": 0, \"ticks\": \"\"}}, \"marker\": {\"colorbar\": {\"outlinewidth\": 0, \"ticks\": \"\"}}, \"type\": \"scatter3d\"}], \"scattercarpet\": [{\"marker\": {\"colorbar\": {\"outlinewidth\": 0, \"ticks\": \"\"}}, \"type\": \"scattercarpet\"}], \"scattergeo\": [{\"marker\": {\"colorbar\": {\"outlinewidth\": 0, \"ticks\": \"\"}}, \"type\": \"scattergeo\"}], \"scattergl\": [{\"marker\": {\"colorbar\": {\"outlinewidth\": 0, \"ticks\": \"\"}}, \"type\": \"scattergl\"}], \"scattermapbox\": [{\"marker\": {\"colorbar\": {\"outlinewidth\": 0, \"ticks\": \"\"}}, \"type\": \"scattermapbox\"}], \"scatterpolar\": [{\"marker\": {\"colorbar\": {\"outlinewidth\": 0, \"ticks\": \"\"}}, \"type\": \"scatterpolar\"}], \"scatterpolargl\": [{\"marker\": {\"colorbar\": {\"outlinewidth\": 0, \"ticks\": \"\"}}, \"type\": \"scatterpolargl\"}], \"scatterternary\": [{\"marker\": {\"colorbar\": {\"outlinewidth\": 0, \"ticks\": \"\"}}, \"type\": \"scatterternary\"}], \"surface\": [{\"colorbar\": {\"outlinewidth\": 0, \"ticks\": \"\"}, \"colorscale\": [[0.0, \"#0d0887\"], [0.1111111111111111, \"#46039f\"], [0.2222222222222222, \"#7201a8\"], [0.3333333333333333, \"#9c179e\"], [0.4444444444444444, \"#bd3786\"], [0.5555555555555556, \"#d8576b\"], [0.6666666666666666, \"#ed7953\"], [0.7777777777777778, \"#fb9f3a\"], [0.8888888888888888, \"#fdca26\"], [1.0, \"#f0f921\"]], \"type\": \"surface\"}], \"table\": [{\"cells\": {\"fill\": {\"color\": \"#EBF0F8\"}, \"line\": {\"color\": \"white\"}}, \"header\": {\"fill\": {\"color\": \"#C8D4E3\"}, \"line\": {\"color\": \"white\"}}, \"type\": \"table\"}]}, \"layout\": {\"annotationdefaults\": {\"arrowcolor\": \"#2a3f5f\", \"arrowhead\": 0, \"arrowwidth\": 1}, \"coloraxis\": {\"colorbar\": {\"outlinewidth\": 0, \"ticks\": \"\"}}, \"colorscale\": {\"diverging\": [[0, \"#8e0152\"], [0.1, \"#c51b7d\"], [0.2, \"#de77ae\"], [0.3, \"#f1b6da\"], [0.4, \"#fde0ef\"], [0.5, \"#f7f7f7\"], [0.6, \"#e6f5d0\"], [0.7, \"#b8e186\"], [0.8, \"#7fbc41\"], [0.9, \"#4d9221\"], [1, \"#276419\"]], \"sequential\": [[0.0, \"#0d0887\"], [0.1111111111111111, \"#46039f\"], [0.2222222222222222, \"#7201a8\"], [0.3333333333333333, \"#9c179e\"], [0.4444444444444444, \"#bd3786\"], [0.5555555555555556, \"#d8576b\"], [0.6666666666666666, \"#ed7953\"], [0.7777777777777778, \"#fb9f3a\"], [0.8888888888888888, \"#fdca26\"], [1.0, \"#f0f921\"]], \"sequentialminus\": [[0.0, \"#0d0887\"], [0.1111111111111111, \"#46039f\"], [0.2222222222222222, \"#7201a8\"], [0.3333333333333333, \"#9c179e\"], [0.4444444444444444, \"#bd3786\"], [0.5555555555555556, \"#d8576b\"], [0.6666666666666666, \"#ed7953\"], [0.7777777777777778, \"#fb9f3a\"], [0.8888888888888888, \"#fdca26\"], [1.0, \"#f0f921\"]]}, \"colorway\": [\"#636efa\", \"#EF553B\", \"#00cc96\", \"#ab63fa\", \"#FFA15A\", \"#19d3f3\", \"#FF6692\", \"#B6E880\", \"#FF97FF\", \"#FECB52\"], \"font\": {\"color\": \"#2a3f5f\"}, \"geo\": {\"bgcolor\": \"white\", \"lakecolor\": \"white\", \"landcolor\": \"#E5ECF6\", \"showlakes\": true, \"showland\": true, \"subunitcolor\": \"white\"}, \"hoverlabel\": {\"align\": \"left\"}, \"hovermode\": \"closest\", \"mapbox\": {\"style\": \"light\"}, \"paper_bgcolor\": \"white\", \"plot_bgcolor\": \"#E5ECF6\", \"polar\": {\"angularaxis\": {\"gridcolor\": \"white\", \"linecolor\": \"white\", \"ticks\": \"\"}, \"bgcolor\": \"#E5ECF6\", \"radialaxis\": {\"gridcolor\": \"white\", \"linecolor\": \"white\", \"ticks\": \"\"}}, \"scene\": {\"xaxis\": {\"backgroundcolor\": \"#E5ECF6\", \"gridcolor\": \"white\", \"gridwidth\": 2, \"linecolor\": \"white\", \"showbackground\": true, \"ticks\": \"\", \"zerolinecolor\": \"white\"}, \"yaxis\": {\"backgroundcolor\": \"#E5ECF6\", \"gridcolor\": \"white\", \"gridwidth\": 2, \"linecolor\": \"white\", \"showbackground\": true, \"ticks\": \"\", \"zerolinecolor\": \"white\"}, \"zaxis\": {\"backgroundcolor\": \"#E5ECF6\", \"gridcolor\": \"white\", \"gridwidth\": 2, \"linecolor\": \"white\", \"showbackground\": true, \"ticks\": \"\", \"zerolinecolor\": \"white\"}}, \"shapedefaults\": {\"line\": {\"color\": \"#2a3f5f\"}}, \"ternary\": {\"aaxis\": {\"gridcolor\": \"white\", \"linecolor\": \"white\", \"ticks\": \"\"}, \"baxis\": {\"gridcolor\": \"white\", \"linecolor\": \"white\", \"ticks\": \"\"}, \"bgcolor\": \"#E5ECF6\", \"caxis\": {\"gridcolor\": \"white\", \"linecolor\": \"white\", \"ticks\": \"\"}}, \"title\": {\"x\": 0.05}, \"xaxis\": {\"automargin\": true, \"gridcolor\": \"white\", \"linecolor\": \"white\", \"ticks\": \"\", \"title\": {\"standoff\": 15}, \"zerolinecolor\": \"white\", \"zerolinewidth\": 2}, \"yaxis\": {\"automargin\": true, \"gridcolor\": \"white\", \"linecolor\": \"white\", \"ticks\": \"\", \"title\": {\"standoff\": 15}, \"zerolinecolor\": \"white\", \"zerolinewidth\": 2}}}},\n",
       "                        {\"responsive\": true}\n",
       "                    ).then(function(){\n",
       "                            \n",
       "var gd = document.getElementById('dac76038-04ff-4dbd-b2d5-cd22703d0695');\n",
       "var x = new MutationObserver(function (mutations, observer) {{\n",
       "        var display = window.getComputedStyle(gd).display;\n",
       "        if (!display || display === 'none') {{\n",
       "            console.log([gd, 'removed!']);\n",
       "            Plotly.purge(gd);\n",
       "            observer.disconnect();\n",
       "        }}\n",
       "}});\n",
       "\n",
       "// Listen for the removal of the full notebook cells\n",
       "var notebookContainer = gd.closest('#notebook-container');\n",
       "if (notebookContainer) {{\n",
       "    x.observe(notebookContainer, {childList: true});\n",
       "}}\n",
       "\n",
       "// Listen for the clearing of the current output cell\n",
       "var outputEl = gd.closest('.output');\n",
       "if (outputEl) {{\n",
       "    x.observe(outputEl, {childList: true});\n",
       "}}\n",
       "\n",
       "                        })\n",
       "                };\n",
       "                });\n",
       "            </script>\n",
       "        </div>"
      ]
     },
     "metadata": {},
     "output_type": "display_data"
    }
   ],
   "source": [
    "import plotly.graph_objects as go\n",
    "\n",
    "course=['補強-生活科技','補強-美術','補強-資訊科技',\\\n",
    "        '補強-地球科學','補強-生物','補強-公民與社會',\\\n",
    "        '補強-地理','補強-歷史','補強-化學',\\\n",
    "        '補強-物理','補強-國語文','補強-英語文','補強-數學']\n",
    "\n",
    "fig = go.Figure(data=[\n",
    "    go.Bar(name='A', x=course, y=[1,0,1,26,29,42,48,52,60,76,89,166,175]),\n",
    "    go.Bar(name='B', x=course, y=[0,1,1,0,1,2,2,2,2,2,2,3,4]),\n",
    "    go.Bar(name='C', x=course, y=[0,0,0,0,0,0,0,0,1,1,6,4,8]),\n",
    "    go.Bar(name='D', x=course, y=[0,0,0,0,1,0,1,0,1,0,1,1,1]),\n",
    "    go.Bar(name='F', x=course, y=[0,0,0,0,2,0,4,4,2,3,4,6,6])\n",
    "])\n",
    "# Change the bar mode\n",
    "fig.update_layout(barmode='stack')\n",
    "fig.show()"
   ]
  },
  {
   "cell_type": "code",
   "execution_count": 188,
   "metadata": {
    "scrolled": true
   },
   "outputs": [
    {
     "name": "stdout",
     "output_type": "stream",
     "text": [
      "縣市\n",
      "南投縣     8\n",
      "嘉義市     3\n",
      "嘉義縣     3\n",
      "基隆市     7\n",
      "宜蘭縣     4\n",
      "屏東縣     4\n",
      "彰化縣     2\n",
      "新北市    24\n",
      "新竹縣     2\n",
      "桃園市     8\n",
      "臺中市    22\n",
      "臺北市    53\n",
      "臺南市    14\n",
      "臺東縣     1\n",
      "花蓮縣     2\n",
      "雲林縣     6\n",
      "高雄市    12\n",
      "dtype: int64\n"
     ]
    }
   ],
   "source": [
    "mathA = df.loc[(df['偏遠'] == 'A') & (df['科目名稱'] == '補強-數學')].groupby(df['縣市']).size()\n",
    "print(mathA)"
   ]
  },
  {
   "cell_type": "code",
   "execution_count": 189,
   "metadata": {},
   "outputs": [
    {
     "name": "stdout",
     "output_type": "stream",
     "text": [
      "縣市\n",
      "南投縣     4\n",
      "嘉義市     3\n",
      "嘉義縣     2\n",
      "基隆市     8\n",
      "宜蘭縣     4\n",
      "屏東縣     6\n",
      "彰化縣     6\n",
      "新北市    24\n",
      "新竹縣     2\n",
      "桃園市     8\n",
      "臺中市    18\n",
      "臺北市    44\n",
      "臺南市    12\n",
      "臺東縣     1\n",
      "花蓮縣     4\n",
      "雲林縣     8\n",
      "高雄市    12\n",
      "dtype: int64\n"
     ]
    }
   ],
   "source": [
    "engA = df.loc[(df['偏遠'] == 'A') & (df['科目名稱'] == '補強-英語文')].groupby(df['縣市']).size()\n",
    "print(engA)"
   ]
  },
  {
   "cell_type": "code",
   "execution_count": 190,
   "metadata": {},
   "outputs": [
    {
     "name": "stdout",
     "output_type": "stream",
     "text": [
      "縣市\n",
      "南投縣     25\n",
      "嘉義市      9\n",
      "嘉義縣     17\n",
      "基隆市     28\n",
      "宜蘭縣     15\n",
      "屏東縣     32\n",
      "彰化縣     16\n",
      "新北市    130\n",
      "新竹市      1\n",
      "新竹縣      6\n",
      "桃園市     41\n",
      "臺中市    118\n",
      "臺北市    200\n",
      "臺南市     44\n",
      "臺東縣      2\n",
      "花蓮縣      7\n",
      "雲林縣     25\n",
      "高雄市     49\n",
      "dtype: int64\n"
     ]
    }
   ],
   "source": [
    "A = df.loc[(df['偏遠'] == 'A')].groupby(df['縣市']).size()\n",
    "print(A)"
   ]
  },
  {
   "cell_type": "code",
   "execution_count": 191,
   "metadata": {},
   "outputs": [
    {
     "data": {
      "text/html": [
       "<div>\n",
       "<style scoped>\n",
       "    .dataframe tbody tr th:only-of-type {\n",
       "        vertical-align: middle;\n",
       "    }\n",
       "\n",
       "    .dataframe tbody tr th {\n",
       "        vertical-align: top;\n",
       "    }\n",
       "\n",
       "    .dataframe thead th {\n",
       "        text-align: right;\n",
       "    }\n",
       "</style>\n",
       "<table border=\"1\" class=\"dataframe\">\n",
       "  <thead>\n",
       "    <tr style=\"text-align: right;\">\n",
       "      <th></th>\n",
       "      <th>數學補強率</th>\n",
       "    </tr>\n",
       "    <tr>\n",
       "      <th>縣市</th>\n",
       "      <th></th>\n",
       "    </tr>\n",
       "  </thead>\n",
       "  <tbody>\n",
       "    <tr>\n",
       "      <th>新竹市</th>\n",
       "      <td>0.000000</td>\n",
       "    </tr>\n",
       "    <tr>\n",
       "      <th>屏東縣</th>\n",
       "      <td>0.125000</td>\n",
       "    </tr>\n",
       "    <tr>\n",
       "      <th>彰化縣</th>\n",
       "      <td>0.125000</td>\n",
       "    </tr>\n",
       "    <tr>\n",
       "      <th>嘉義縣</th>\n",
       "      <td>0.176471</td>\n",
       "    </tr>\n",
       "    <tr>\n",
       "      <th>新北市</th>\n",
       "      <td>0.184615</td>\n",
       "    </tr>\n",
       "    <tr>\n",
       "      <th>臺中市</th>\n",
       "      <td>0.186441</td>\n",
       "    </tr>\n",
       "    <tr>\n",
       "      <th>桃園市</th>\n",
       "      <td>0.195122</td>\n",
       "    </tr>\n",
       "    <tr>\n",
       "      <th>雲林縣</th>\n",
       "      <td>0.240000</td>\n",
       "    </tr>\n",
       "    <tr>\n",
       "      <th>高雄市</th>\n",
       "      <td>0.244898</td>\n",
       "    </tr>\n",
       "    <tr>\n",
       "      <th>基隆市</th>\n",
       "      <td>0.250000</td>\n",
       "    </tr>\n",
       "    <tr>\n",
       "      <th>臺北市</th>\n",
       "      <td>0.265000</td>\n",
       "    </tr>\n",
       "    <tr>\n",
       "      <th>宜蘭縣</th>\n",
       "      <td>0.266667</td>\n",
       "    </tr>\n",
       "    <tr>\n",
       "      <th>花蓮縣</th>\n",
       "      <td>0.285714</td>\n",
       "    </tr>\n",
       "    <tr>\n",
       "      <th>臺南市</th>\n",
       "      <td>0.318182</td>\n",
       "    </tr>\n",
       "    <tr>\n",
       "      <th>南投縣</th>\n",
       "      <td>0.320000</td>\n",
       "    </tr>\n",
       "    <tr>\n",
       "      <th>嘉義市</th>\n",
       "      <td>0.333333</td>\n",
       "    </tr>\n",
       "    <tr>\n",
       "      <th>新竹縣</th>\n",
       "      <td>0.333333</td>\n",
       "    </tr>\n",
       "    <tr>\n",
       "      <th>臺東縣</th>\n",
       "      <td>0.500000</td>\n",
       "    </tr>\n",
       "  </tbody>\n",
       "</table>\n",
       "</div>"
      ],
      "text/plain": [
       "        數學補強率\n",
       "縣市           \n",
       "新竹市  0.000000\n",
       "屏東縣  0.125000\n",
       "彰化縣  0.125000\n",
       "嘉義縣  0.176471\n",
       "新北市  0.184615\n",
       "臺中市  0.186441\n",
       "桃園市  0.195122\n",
       "雲林縣  0.240000\n",
       "高雄市  0.244898\n",
       "基隆市  0.250000\n",
       "臺北市  0.265000\n",
       "宜蘭縣  0.266667\n",
       "花蓮縣  0.285714\n",
       "臺南市  0.318182\n",
       "南投縣  0.320000\n",
       "嘉義市  0.333333\n",
       "新竹縣  0.333333\n",
       "臺東縣  0.500000"
      ]
     },
     "execution_count": 191,
     "metadata": {},
     "output_type": "execute_result"
    }
   ],
   "source": [
    "import numpy as np\n",
    "rate_math = pd.DataFrame(mathA / A).sort_values(by=0)\n",
    "rate_math = rate_math.replace(np.nan, 0)\n",
    "rate_math = rate_math.sort_values(by=0)\n",
    "rate_math = rate_math.rename(columns={0: '數學補強率'})\n",
    "rate_math"
   ]
  },
  {
   "cell_type": "code",
   "execution_count": 192,
   "metadata": {},
   "outputs": [
    {
     "data": {
      "text/html": [
       "<div>\n",
       "<style scoped>\n",
       "    .dataframe tbody tr th:only-of-type {\n",
       "        vertical-align: middle;\n",
       "    }\n",
       "\n",
       "    .dataframe tbody tr th {\n",
       "        vertical-align: top;\n",
       "    }\n",
       "\n",
       "    .dataframe thead th {\n",
       "        text-align: right;\n",
       "    }\n",
       "</style>\n",
       "<table border=\"1\" class=\"dataframe\">\n",
       "  <thead>\n",
       "    <tr style=\"text-align: right;\">\n",
       "      <th></th>\n",
       "      <th>英文補強率</th>\n",
       "    </tr>\n",
       "    <tr>\n",
       "      <th>縣市</th>\n",
       "      <th></th>\n",
       "    </tr>\n",
       "  </thead>\n",
       "  <tbody>\n",
       "    <tr>\n",
       "      <th>新竹市</th>\n",
       "      <td>0.000000</td>\n",
       "    </tr>\n",
       "    <tr>\n",
       "      <th>嘉義縣</th>\n",
       "      <td>0.117647</td>\n",
       "    </tr>\n",
       "    <tr>\n",
       "      <th>臺中市</th>\n",
       "      <td>0.152542</td>\n",
       "    </tr>\n",
       "    <tr>\n",
       "      <th>南投縣</th>\n",
       "      <td>0.160000</td>\n",
       "    </tr>\n",
       "    <tr>\n",
       "      <th>新北市</th>\n",
       "      <td>0.184615</td>\n",
       "    </tr>\n",
       "    <tr>\n",
       "      <th>屏東縣</th>\n",
       "      <td>0.187500</td>\n",
       "    </tr>\n",
       "    <tr>\n",
       "      <th>桃園市</th>\n",
       "      <td>0.195122</td>\n",
       "    </tr>\n",
       "    <tr>\n",
       "      <th>臺北市</th>\n",
       "      <td>0.220000</td>\n",
       "    </tr>\n",
       "    <tr>\n",
       "      <th>高雄市</th>\n",
       "      <td>0.244898</td>\n",
       "    </tr>\n",
       "    <tr>\n",
       "      <th>宜蘭縣</th>\n",
       "      <td>0.266667</td>\n",
       "    </tr>\n",
       "    <tr>\n",
       "      <th>臺南市</th>\n",
       "      <td>0.272727</td>\n",
       "    </tr>\n",
       "    <tr>\n",
       "      <th>基隆市</th>\n",
       "      <td>0.285714</td>\n",
       "    </tr>\n",
       "    <tr>\n",
       "      <th>雲林縣</th>\n",
       "      <td>0.320000</td>\n",
       "    </tr>\n",
       "    <tr>\n",
       "      <th>嘉義市</th>\n",
       "      <td>0.333333</td>\n",
       "    </tr>\n",
       "    <tr>\n",
       "      <th>新竹縣</th>\n",
       "      <td>0.333333</td>\n",
       "    </tr>\n",
       "    <tr>\n",
       "      <th>彰化縣</th>\n",
       "      <td>0.375000</td>\n",
       "    </tr>\n",
       "    <tr>\n",
       "      <th>臺東縣</th>\n",
       "      <td>0.500000</td>\n",
       "    </tr>\n",
       "    <tr>\n",
       "      <th>花蓮縣</th>\n",
       "      <td>0.571429</td>\n",
       "    </tr>\n",
       "  </tbody>\n",
       "</table>\n",
       "</div>"
      ],
      "text/plain": [
       "        英文補強率\n",
       "縣市           \n",
       "新竹市  0.000000\n",
       "嘉義縣  0.117647\n",
       "臺中市  0.152542\n",
       "南投縣  0.160000\n",
       "新北市  0.184615\n",
       "屏東縣  0.187500\n",
       "桃園市  0.195122\n",
       "臺北市  0.220000\n",
       "高雄市  0.244898\n",
       "宜蘭縣  0.266667\n",
       "臺南市  0.272727\n",
       "基隆市  0.285714\n",
       "雲林縣  0.320000\n",
       "嘉義市  0.333333\n",
       "新竹縣  0.333333\n",
       "彰化縣  0.375000\n",
       "臺東縣  0.500000\n",
       "花蓮縣  0.571429"
      ]
     },
     "execution_count": 192,
     "metadata": {},
     "output_type": "execute_result"
    }
   ],
   "source": [
    "rate_eng = pd.DataFrame(engA / A).sort_values(by=0)\n",
    "rate_eng = rate_eng.replace(np.nan, 0)\n",
    "rate_eng = rate_eng.sort_values(by=0)\n",
    "rate_eng = rate_eng.rename(columns={0: '英文補強率'})\n",
    "rate_eng"
   ]
  },
  {
   "cell_type": "code",
   "execution_count": 195,
   "metadata": {},
   "outputs": [
    {
     "data": {
      "text/html": [
       "<div>\n",
       "<style scoped>\n",
       "    .dataframe tbody tr th:only-of-type {\n",
       "        vertical-align: middle;\n",
       "    }\n",
       "\n",
       "    .dataframe tbody tr th {\n",
       "        vertical-align: top;\n",
       "    }\n",
       "\n",
       "    .dataframe thead th {\n",
       "        text-align: right;\n",
       "    }\n",
       "</style>\n",
       "<table border=\"1\" class=\"dataframe\">\n",
       "  <thead>\n",
       "    <tr style=\"text-align: right;\">\n",
       "      <th></th>\n",
       "      <th>數學補強率</th>\n",
       "      <th>英文補強率</th>\n",
       "    </tr>\n",
       "    <tr>\n",
       "      <th>縣市</th>\n",
       "      <th></th>\n",
       "      <th></th>\n",
       "    </tr>\n",
       "  </thead>\n",
       "  <tbody>\n",
       "    <tr>\n",
       "      <th>新竹市</th>\n",
       "      <td>0.000000</td>\n",
       "      <td>0.000000</td>\n",
       "    </tr>\n",
       "    <tr>\n",
       "      <th>屏東縣</th>\n",
       "      <td>0.125000</td>\n",
       "      <td>0.187500</td>\n",
       "    </tr>\n",
       "    <tr>\n",
       "      <th>彰化縣</th>\n",
       "      <td>0.125000</td>\n",
       "      <td>0.375000</td>\n",
       "    </tr>\n",
       "    <tr>\n",
       "      <th>嘉義縣</th>\n",
       "      <td>0.176471</td>\n",
       "      <td>0.117647</td>\n",
       "    </tr>\n",
       "    <tr>\n",
       "      <th>新北市</th>\n",
       "      <td>0.184615</td>\n",
       "      <td>0.184615</td>\n",
       "    </tr>\n",
       "    <tr>\n",
       "      <th>臺中市</th>\n",
       "      <td>0.186441</td>\n",
       "      <td>0.152542</td>\n",
       "    </tr>\n",
       "    <tr>\n",
       "      <th>桃園市</th>\n",
       "      <td>0.195122</td>\n",
       "      <td>0.195122</td>\n",
       "    </tr>\n",
       "    <tr>\n",
       "      <th>雲林縣</th>\n",
       "      <td>0.240000</td>\n",
       "      <td>0.320000</td>\n",
       "    </tr>\n",
       "    <tr>\n",
       "      <th>高雄市</th>\n",
       "      <td>0.244898</td>\n",
       "      <td>0.244898</td>\n",
       "    </tr>\n",
       "    <tr>\n",
       "      <th>基隆市</th>\n",
       "      <td>0.250000</td>\n",
       "      <td>0.285714</td>\n",
       "    </tr>\n",
       "    <tr>\n",
       "      <th>臺北市</th>\n",
       "      <td>0.265000</td>\n",
       "      <td>0.220000</td>\n",
       "    </tr>\n",
       "    <tr>\n",
       "      <th>宜蘭縣</th>\n",
       "      <td>0.266667</td>\n",
       "      <td>0.266667</td>\n",
       "    </tr>\n",
       "    <tr>\n",
       "      <th>花蓮縣</th>\n",
       "      <td>0.285714</td>\n",
       "      <td>0.571429</td>\n",
       "    </tr>\n",
       "    <tr>\n",
       "      <th>臺南市</th>\n",
       "      <td>0.318182</td>\n",
       "      <td>0.272727</td>\n",
       "    </tr>\n",
       "    <tr>\n",
       "      <th>南投縣</th>\n",
       "      <td>0.320000</td>\n",
       "      <td>0.160000</td>\n",
       "    </tr>\n",
       "    <tr>\n",
       "      <th>嘉義市</th>\n",
       "      <td>0.333333</td>\n",
       "      <td>0.333333</td>\n",
       "    </tr>\n",
       "    <tr>\n",
       "      <th>新竹縣</th>\n",
       "      <td>0.333333</td>\n",
       "      <td>0.333333</td>\n",
       "    </tr>\n",
       "    <tr>\n",
       "      <th>臺東縣</th>\n",
       "      <td>0.500000</td>\n",
       "      <td>0.500000</td>\n",
       "    </tr>\n",
       "  </tbody>\n",
       "</table>\n",
       "</div>"
      ],
      "text/plain": [
       "        數學補強率     英文補強率\n",
       "縣市                     \n",
       "新竹市  0.000000  0.000000\n",
       "屏東縣  0.125000  0.187500\n",
       "彰化縣  0.125000  0.375000\n",
       "嘉義縣  0.176471  0.117647\n",
       "新北市  0.184615  0.184615\n",
       "臺中市  0.186441  0.152542\n",
       "桃園市  0.195122  0.195122\n",
       "雲林縣  0.240000  0.320000\n",
       "高雄市  0.244898  0.244898\n",
       "基隆市  0.250000  0.285714\n",
       "臺北市  0.265000  0.220000\n",
       "宜蘭縣  0.266667  0.266667\n",
       "花蓮縣  0.285714  0.571429\n",
       "臺南市  0.318182  0.272727\n",
       "南投縣  0.320000  0.160000\n",
       "嘉義市  0.333333  0.333333\n",
       "新竹縣  0.333333  0.333333\n",
       "臺東縣  0.500000  0.500000"
      ]
     },
     "execution_count": 195,
     "metadata": {},
     "output_type": "execute_result"
    }
   ],
   "source": [
    "rate = pd.merge(rate_math, rate_eng, left_index=True, right_index=True)\n",
    "rate"
   ]
  },
  {
   "cell_type": "code",
   "execution_count": 199,
   "metadata": {},
   "outputs": [
    {
     "data": {
      "application/vnd.plotly.v1+json": {
       "config": {
        "plotlyServerURL": "https://plot.ly"
       },
       "data": [
        {
         "hovertemplate": "color=新竹市<br>數學補強率=%{x}<br>英文補強率=%{y}<extra></extra>",
         "legendgroup": "新竹市",
         "marker": {
          "color": "#636efa",
          "symbol": "circle"
         },
         "mode": "markers",
         "name": "新竹市",
         "showlegend": true,
         "type": "scatter",
         "x": [
          0
         ],
         "xaxis": "x",
         "y": [
          0
         ],
         "yaxis": "y"
        },
        {
         "hovertemplate": "color=屏東縣<br>數學補強率=%{x}<br>英文補強率=%{y}<extra></extra>",
         "legendgroup": "屏東縣",
         "marker": {
          "color": "#EF553B",
          "symbol": "circle"
         },
         "mode": "markers",
         "name": "屏東縣",
         "showlegend": true,
         "type": "scatter",
         "x": [
          0.125
         ],
         "xaxis": "x",
         "y": [
          0.1875
         ],
         "yaxis": "y"
        },
        {
         "hovertemplate": "color=彰化縣<br>數學補強率=%{x}<br>英文補強率=%{y}<extra></extra>",
         "legendgroup": "彰化縣",
         "marker": {
          "color": "#00cc96",
          "symbol": "circle"
         },
         "mode": "markers",
         "name": "彰化縣",
         "showlegend": true,
         "type": "scatter",
         "x": [
          0.125
         ],
         "xaxis": "x",
         "y": [
          0.375
         ],
         "yaxis": "y"
        },
        {
         "hovertemplate": "color=嘉義縣<br>數學補強率=%{x}<br>英文補強率=%{y}<extra></extra>",
         "legendgroup": "嘉義縣",
         "marker": {
          "color": "#ab63fa",
          "symbol": "circle"
         },
         "mode": "markers",
         "name": "嘉義縣",
         "showlegend": true,
         "type": "scatter",
         "x": [
          0.17647058823529413
         ],
         "xaxis": "x",
         "y": [
          0.11764705882352941
         ],
         "yaxis": "y"
        },
        {
         "hovertemplate": "color=新北市<br>數學補強率=%{x}<br>英文補強率=%{y}<extra></extra>",
         "legendgroup": "新北市",
         "marker": {
          "color": "#FFA15A",
          "symbol": "circle"
         },
         "mode": "markers",
         "name": "新北市",
         "showlegend": true,
         "type": "scatter",
         "x": [
          0.18461538461538463
         ],
         "xaxis": "x",
         "y": [
          0.18461538461538463
         ],
         "yaxis": "y"
        },
        {
         "hovertemplate": "color=臺中市<br>數學補強率=%{x}<br>英文補強率=%{y}<extra></extra>",
         "legendgroup": "臺中市",
         "marker": {
          "color": "#19d3f3",
          "symbol": "circle"
         },
         "mode": "markers",
         "name": "臺中市",
         "showlegend": true,
         "type": "scatter",
         "x": [
          0.1864406779661017
         ],
         "xaxis": "x",
         "y": [
          0.15254237288135594
         ],
         "yaxis": "y"
        },
        {
         "hovertemplate": "color=桃園市<br>數學補強率=%{x}<br>英文補強率=%{y}<extra></extra>",
         "legendgroup": "桃園市",
         "marker": {
          "color": "#FF6692",
          "symbol": "circle"
         },
         "mode": "markers",
         "name": "桃園市",
         "showlegend": true,
         "type": "scatter",
         "x": [
          0.1951219512195122
         ],
         "xaxis": "x",
         "y": [
          0.1951219512195122
         ],
         "yaxis": "y"
        },
        {
         "hovertemplate": "color=雲林縣<br>數學補強率=%{x}<br>英文補強率=%{y}<extra></extra>",
         "legendgroup": "雲林縣",
         "marker": {
          "color": "#B6E880",
          "symbol": "circle"
         },
         "mode": "markers",
         "name": "雲林縣",
         "showlegend": true,
         "type": "scatter",
         "x": [
          0.24
         ],
         "xaxis": "x",
         "y": [
          0.32
         ],
         "yaxis": "y"
        },
        {
         "hovertemplate": "color=高雄市<br>數學補強率=%{x}<br>英文補強率=%{y}<extra></extra>",
         "legendgroup": "高雄市",
         "marker": {
          "color": "#FF97FF",
          "symbol": "circle"
         },
         "mode": "markers",
         "name": "高雄市",
         "showlegend": true,
         "type": "scatter",
         "x": [
          0.24489795918367346
         ],
         "xaxis": "x",
         "y": [
          0.24489795918367346
         ],
         "yaxis": "y"
        },
        {
         "hovertemplate": "color=基隆市<br>數學補強率=%{x}<br>英文補強率=%{y}<extra></extra>",
         "legendgroup": "基隆市",
         "marker": {
          "color": "#FECB52",
          "symbol": "circle"
         },
         "mode": "markers",
         "name": "基隆市",
         "showlegend": true,
         "type": "scatter",
         "x": [
          0.25
         ],
         "xaxis": "x",
         "y": [
          0.2857142857142857
         ],
         "yaxis": "y"
        },
        {
         "hovertemplate": "color=臺北市<br>數學補強率=%{x}<br>英文補強率=%{y}<extra></extra>",
         "legendgroup": "臺北市",
         "marker": {
          "color": "#636efa",
          "symbol": "circle"
         },
         "mode": "markers",
         "name": "臺北市",
         "showlegend": true,
         "type": "scatter",
         "x": [
          0.265
         ],
         "xaxis": "x",
         "y": [
          0.22
         ],
         "yaxis": "y"
        },
        {
         "hovertemplate": "color=宜蘭縣<br>數學補強率=%{x}<br>英文補強率=%{y}<extra></extra>",
         "legendgroup": "宜蘭縣",
         "marker": {
          "color": "#EF553B",
          "symbol": "circle"
         },
         "mode": "markers",
         "name": "宜蘭縣",
         "showlegend": true,
         "type": "scatter",
         "x": [
          0.26666666666666666
         ],
         "xaxis": "x",
         "y": [
          0.26666666666666666
         ],
         "yaxis": "y"
        },
        {
         "hovertemplate": "color=花蓮縣<br>數學補強率=%{x}<br>英文補強率=%{y}<extra></extra>",
         "legendgroup": "花蓮縣",
         "marker": {
          "color": "#00cc96",
          "symbol": "circle"
         },
         "mode": "markers",
         "name": "花蓮縣",
         "showlegend": true,
         "type": "scatter",
         "x": [
          0.2857142857142857
         ],
         "xaxis": "x",
         "y": [
          0.5714285714285714
         ],
         "yaxis": "y"
        },
        {
         "hovertemplate": "color=臺南市<br>數學補強率=%{x}<br>英文補強率=%{y}<extra></extra>",
         "legendgroup": "臺南市",
         "marker": {
          "color": "#ab63fa",
          "symbol": "circle"
         },
         "mode": "markers",
         "name": "臺南市",
         "showlegend": true,
         "type": "scatter",
         "x": [
          0.3181818181818182
         ],
         "xaxis": "x",
         "y": [
          0.2727272727272727
         ],
         "yaxis": "y"
        },
        {
         "hovertemplate": "color=南投縣<br>數學補強率=%{x}<br>英文補強率=%{y}<extra></extra>",
         "legendgroup": "南投縣",
         "marker": {
          "color": "#FFA15A",
          "symbol": "circle"
         },
         "mode": "markers",
         "name": "南投縣",
         "showlegend": true,
         "type": "scatter",
         "x": [
          0.32
         ],
         "xaxis": "x",
         "y": [
          0.16
         ],
         "yaxis": "y"
        },
        {
         "hovertemplate": "color=嘉義市<br>數學補強率=%{x}<br>英文補強率=%{y}<extra></extra>",
         "legendgroup": "嘉義市",
         "marker": {
          "color": "#19d3f3",
          "symbol": "circle"
         },
         "mode": "markers",
         "name": "嘉義市",
         "showlegend": true,
         "type": "scatter",
         "x": [
          0.3333333333333333
         ],
         "xaxis": "x",
         "y": [
          0.3333333333333333
         ],
         "yaxis": "y"
        },
        {
         "hovertemplate": "color=新竹縣<br>數學補強率=%{x}<br>英文補強率=%{y}<extra></extra>",
         "legendgroup": "新竹縣",
         "marker": {
          "color": "#FF6692",
          "symbol": "circle"
         },
         "mode": "markers",
         "name": "新竹縣",
         "showlegend": true,
         "type": "scatter",
         "x": [
          0.3333333333333333
         ],
         "xaxis": "x",
         "y": [
          0.3333333333333333
         ],
         "yaxis": "y"
        },
        {
         "hovertemplate": "color=臺東縣<br>數學補強率=%{x}<br>英文補強率=%{y}<extra></extra>",
         "legendgroup": "臺東縣",
         "marker": {
          "color": "#B6E880",
          "symbol": "circle"
         },
         "mode": "markers",
         "name": "臺東縣",
         "showlegend": true,
         "type": "scatter",
         "x": [
          0.5
         ],
         "xaxis": "x",
         "y": [
          0.5
         ],
         "yaxis": "y"
        }
       ],
       "layout": {
        "legend": {
         "title": {
          "text": "color"
         },
         "tracegroupgap": 0
        },
        "margin": {
         "t": 60
        },
        "template": {
         "data": {
          "bar": [
           {
            "error_x": {
             "color": "#2a3f5f"
            },
            "error_y": {
             "color": "#2a3f5f"
            },
            "marker": {
             "line": {
              "color": "#E5ECF6",
              "width": 0.5
             }
            },
            "type": "bar"
           }
          ],
          "barpolar": [
           {
            "marker": {
             "line": {
              "color": "#E5ECF6",
              "width": 0.5
             }
            },
            "type": "barpolar"
           }
          ],
          "carpet": [
           {
            "aaxis": {
             "endlinecolor": "#2a3f5f",
             "gridcolor": "white",
             "linecolor": "white",
             "minorgridcolor": "white",
             "startlinecolor": "#2a3f5f"
            },
            "baxis": {
             "endlinecolor": "#2a3f5f",
             "gridcolor": "white",
             "linecolor": "white",
             "minorgridcolor": "white",
             "startlinecolor": "#2a3f5f"
            },
            "type": "carpet"
           }
          ],
          "choropleth": [
           {
            "colorbar": {
             "outlinewidth": 0,
             "ticks": ""
            },
            "type": "choropleth"
           }
          ],
          "contour": [
           {
            "colorbar": {
             "outlinewidth": 0,
             "ticks": ""
            },
            "colorscale": [
             [
              0,
              "#0d0887"
             ],
             [
              0.1111111111111111,
              "#46039f"
             ],
             [
              0.2222222222222222,
              "#7201a8"
             ],
             [
              0.3333333333333333,
              "#9c179e"
             ],
             [
              0.4444444444444444,
              "#bd3786"
             ],
             [
              0.5555555555555556,
              "#d8576b"
             ],
             [
              0.6666666666666666,
              "#ed7953"
             ],
             [
              0.7777777777777778,
              "#fb9f3a"
             ],
             [
              0.8888888888888888,
              "#fdca26"
             ],
             [
              1,
              "#f0f921"
             ]
            ],
            "type": "contour"
           }
          ],
          "contourcarpet": [
           {
            "colorbar": {
             "outlinewidth": 0,
             "ticks": ""
            },
            "type": "contourcarpet"
           }
          ],
          "heatmap": [
           {
            "colorbar": {
             "outlinewidth": 0,
             "ticks": ""
            },
            "colorscale": [
             [
              0,
              "#0d0887"
             ],
             [
              0.1111111111111111,
              "#46039f"
             ],
             [
              0.2222222222222222,
              "#7201a8"
             ],
             [
              0.3333333333333333,
              "#9c179e"
             ],
             [
              0.4444444444444444,
              "#bd3786"
             ],
             [
              0.5555555555555556,
              "#d8576b"
             ],
             [
              0.6666666666666666,
              "#ed7953"
             ],
             [
              0.7777777777777778,
              "#fb9f3a"
             ],
             [
              0.8888888888888888,
              "#fdca26"
             ],
             [
              1,
              "#f0f921"
             ]
            ],
            "type": "heatmap"
           }
          ],
          "heatmapgl": [
           {
            "colorbar": {
             "outlinewidth": 0,
             "ticks": ""
            },
            "colorscale": [
             [
              0,
              "#0d0887"
             ],
             [
              0.1111111111111111,
              "#46039f"
             ],
             [
              0.2222222222222222,
              "#7201a8"
             ],
             [
              0.3333333333333333,
              "#9c179e"
             ],
             [
              0.4444444444444444,
              "#bd3786"
             ],
             [
              0.5555555555555556,
              "#d8576b"
             ],
             [
              0.6666666666666666,
              "#ed7953"
             ],
             [
              0.7777777777777778,
              "#fb9f3a"
             ],
             [
              0.8888888888888888,
              "#fdca26"
             ],
             [
              1,
              "#f0f921"
             ]
            ],
            "type": "heatmapgl"
           }
          ],
          "histogram": [
           {
            "marker": {
             "colorbar": {
              "outlinewidth": 0,
              "ticks": ""
             }
            },
            "type": "histogram"
           }
          ],
          "histogram2d": [
           {
            "colorbar": {
             "outlinewidth": 0,
             "ticks": ""
            },
            "colorscale": [
             [
              0,
              "#0d0887"
             ],
             [
              0.1111111111111111,
              "#46039f"
             ],
             [
              0.2222222222222222,
              "#7201a8"
             ],
             [
              0.3333333333333333,
              "#9c179e"
             ],
             [
              0.4444444444444444,
              "#bd3786"
             ],
             [
              0.5555555555555556,
              "#d8576b"
             ],
             [
              0.6666666666666666,
              "#ed7953"
             ],
             [
              0.7777777777777778,
              "#fb9f3a"
             ],
             [
              0.8888888888888888,
              "#fdca26"
             ],
             [
              1,
              "#f0f921"
             ]
            ],
            "type": "histogram2d"
           }
          ],
          "histogram2dcontour": [
           {
            "colorbar": {
             "outlinewidth": 0,
             "ticks": ""
            },
            "colorscale": [
             [
              0,
              "#0d0887"
             ],
             [
              0.1111111111111111,
              "#46039f"
             ],
             [
              0.2222222222222222,
              "#7201a8"
             ],
             [
              0.3333333333333333,
              "#9c179e"
             ],
             [
              0.4444444444444444,
              "#bd3786"
             ],
             [
              0.5555555555555556,
              "#d8576b"
             ],
             [
              0.6666666666666666,
              "#ed7953"
             ],
             [
              0.7777777777777778,
              "#fb9f3a"
             ],
             [
              0.8888888888888888,
              "#fdca26"
             ],
             [
              1,
              "#f0f921"
             ]
            ],
            "type": "histogram2dcontour"
           }
          ],
          "mesh3d": [
           {
            "colorbar": {
             "outlinewidth": 0,
             "ticks": ""
            },
            "type": "mesh3d"
           }
          ],
          "parcoords": [
           {
            "line": {
             "colorbar": {
              "outlinewidth": 0,
              "ticks": ""
             }
            },
            "type": "parcoords"
           }
          ],
          "pie": [
           {
            "automargin": true,
            "type": "pie"
           }
          ],
          "scatter": [
           {
            "marker": {
             "colorbar": {
              "outlinewidth": 0,
              "ticks": ""
             }
            },
            "type": "scatter"
           }
          ],
          "scatter3d": [
           {
            "line": {
             "colorbar": {
              "outlinewidth": 0,
              "ticks": ""
             }
            },
            "marker": {
             "colorbar": {
              "outlinewidth": 0,
              "ticks": ""
             }
            },
            "type": "scatter3d"
           }
          ],
          "scattercarpet": [
           {
            "marker": {
             "colorbar": {
              "outlinewidth": 0,
              "ticks": ""
             }
            },
            "type": "scattercarpet"
           }
          ],
          "scattergeo": [
           {
            "marker": {
             "colorbar": {
              "outlinewidth": 0,
              "ticks": ""
             }
            },
            "type": "scattergeo"
           }
          ],
          "scattergl": [
           {
            "marker": {
             "colorbar": {
              "outlinewidth": 0,
              "ticks": ""
             }
            },
            "type": "scattergl"
           }
          ],
          "scattermapbox": [
           {
            "marker": {
             "colorbar": {
              "outlinewidth": 0,
              "ticks": ""
             }
            },
            "type": "scattermapbox"
           }
          ],
          "scatterpolar": [
           {
            "marker": {
             "colorbar": {
              "outlinewidth": 0,
              "ticks": ""
             }
            },
            "type": "scatterpolar"
           }
          ],
          "scatterpolargl": [
           {
            "marker": {
             "colorbar": {
              "outlinewidth": 0,
              "ticks": ""
             }
            },
            "type": "scatterpolargl"
           }
          ],
          "scatterternary": [
           {
            "marker": {
             "colorbar": {
              "outlinewidth": 0,
              "ticks": ""
             }
            },
            "type": "scatterternary"
           }
          ],
          "surface": [
           {
            "colorbar": {
             "outlinewidth": 0,
             "ticks": ""
            },
            "colorscale": [
             [
              0,
              "#0d0887"
             ],
             [
              0.1111111111111111,
              "#46039f"
             ],
             [
              0.2222222222222222,
              "#7201a8"
             ],
             [
              0.3333333333333333,
              "#9c179e"
             ],
             [
              0.4444444444444444,
              "#bd3786"
             ],
             [
              0.5555555555555556,
              "#d8576b"
             ],
             [
              0.6666666666666666,
              "#ed7953"
             ],
             [
              0.7777777777777778,
              "#fb9f3a"
             ],
             [
              0.8888888888888888,
              "#fdca26"
             ],
             [
              1,
              "#f0f921"
             ]
            ],
            "type": "surface"
           }
          ],
          "table": [
           {
            "cells": {
             "fill": {
              "color": "#EBF0F8"
             },
             "line": {
              "color": "white"
             }
            },
            "header": {
             "fill": {
              "color": "#C8D4E3"
             },
             "line": {
              "color": "white"
             }
            },
            "type": "table"
           }
          ]
         },
         "layout": {
          "annotationdefaults": {
           "arrowcolor": "#2a3f5f",
           "arrowhead": 0,
           "arrowwidth": 1
          },
          "coloraxis": {
           "colorbar": {
            "outlinewidth": 0,
            "ticks": ""
           }
          },
          "colorscale": {
           "diverging": [
            [
             0,
             "#8e0152"
            ],
            [
             0.1,
             "#c51b7d"
            ],
            [
             0.2,
             "#de77ae"
            ],
            [
             0.3,
             "#f1b6da"
            ],
            [
             0.4,
             "#fde0ef"
            ],
            [
             0.5,
             "#f7f7f7"
            ],
            [
             0.6,
             "#e6f5d0"
            ],
            [
             0.7,
             "#b8e186"
            ],
            [
             0.8,
             "#7fbc41"
            ],
            [
             0.9,
             "#4d9221"
            ],
            [
             1,
             "#276419"
            ]
           ],
           "sequential": [
            [
             0,
             "#0d0887"
            ],
            [
             0.1111111111111111,
             "#46039f"
            ],
            [
             0.2222222222222222,
             "#7201a8"
            ],
            [
             0.3333333333333333,
             "#9c179e"
            ],
            [
             0.4444444444444444,
             "#bd3786"
            ],
            [
             0.5555555555555556,
             "#d8576b"
            ],
            [
             0.6666666666666666,
             "#ed7953"
            ],
            [
             0.7777777777777778,
             "#fb9f3a"
            ],
            [
             0.8888888888888888,
             "#fdca26"
            ],
            [
             1,
             "#f0f921"
            ]
           ],
           "sequentialminus": [
            [
             0,
             "#0d0887"
            ],
            [
             0.1111111111111111,
             "#46039f"
            ],
            [
             0.2222222222222222,
             "#7201a8"
            ],
            [
             0.3333333333333333,
             "#9c179e"
            ],
            [
             0.4444444444444444,
             "#bd3786"
            ],
            [
             0.5555555555555556,
             "#d8576b"
            ],
            [
             0.6666666666666666,
             "#ed7953"
            ],
            [
             0.7777777777777778,
             "#fb9f3a"
            ],
            [
             0.8888888888888888,
             "#fdca26"
            ],
            [
             1,
             "#f0f921"
            ]
           ]
          },
          "colorway": [
           "#636efa",
           "#EF553B",
           "#00cc96",
           "#ab63fa",
           "#FFA15A",
           "#19d3f3",
           "#FF6692",
           "#B6E880",
           "#FF97FF",
           "#FECB52"
          ],
          "font": {
           "color": "#2a3f5f"
          },
          "geo": {
           "bgcolor": "white",
           "lakecolor": "white",
           "landcolor": "#E5ECF6",
           "showlakes": true,
           "showland": true,
           "subunitcolor": "white"
          },
          "hoverlabel": {
           "align": "left"
          },
          "hovermode": "closest",
          "mapbox": {
           "style": "light"
          },
          "paper_bgcolor": "white",
          "plot_bgcolor": "#E5ECF6",
          "polar": {
           "angularaxis": {
            "gridcolor": "white",
            "linecolor": "white",
            "ticks": ""
           },
           "bgcolor": "#E5ECF6",
           "radialaxis": {
            "gridcolor": "white",
            "linecolor": "white",
            "ticks": ""
           }
          },
          "scene": {
           "xaxis": {
            "backgroundcolor": "#E5ECF6",
            "gridcolor": "white",
            "gridwidth": 2,
            "linecolor": "white",
            "showbackground": true,
            "ticks": "",
            "zerolinecolor": "white"
           },
           "yaxis": {
            "backgroundcolor": "#E5ECF6",
            "gridcolor": "white",
            "gridwidth": 2,
            "linecolor": "white",
            "showbackground": true,
            "ticks": "",
            "zerolinecolor": "white"
           },
           "zaxis": {
            "backgroundcolor": "#E5ECF6",
            "gridcolor": "white",
            "gridwidth": 2,
            "linecolor": "white",
            "showbackground": true,
            "ticks": "",
            "zerolinecolor": "white"
           }
          },
          "shapedefaults": {
           "line": {
            "color": "#2a3f5f"
           }
          },
          "ternary": {
           "aaxis": {
            "gridcolor": "white",
            "linecolor": "white",
            "ticks": ""
           },
           "baxis": {
            "gridcolor": "white",
            "linecolor": "white",
            "ticks": ""
           },
           "bgcolor": "#E5ECF6",
           "caxis": {
            "gridcolor": "white",
            "linecolor": "white",
            "ticks": ""
           }
          },
          "title": {
           "x": 0.05
          },
          "xaxis": {
           "automargin": true,
           "gridcolor": "white",
           "linecolor": "white",
           "ticks": "",
           "title": {
            "standoff": 15
           },
           "zerolinecolor": "white",
           "zerolinewidth": 2
          },
          "yaxis": {
           "automargin": true,
           "gridcolor": "white",
           "linecolor": "white",
           "ticks": "",
           "title": {
            "standoff": 15
           },
           "zerolinecolor": "white",
           "zerolinewidth": 2
          }
         }
        },
        "xaxis": {
         "anchor": "y",
         "domain": [
          0,
          1
         ],
         "title": {
          "text": "數學補強率"
         }
        },
        "yaxis": {
         "anchor": "x",
         "domain": [
          0,
          1
         ],
         "title": {
          "text": "英文補強率"
         }
        }
       }
      },
      "text/html": [
       "<div>\n",
       "        \n",
       "        \n",
       "            <div id=\"4044be65-ff14-4b2a-9f7e-04f0561ef4ac\" class=\"plotly-graph-div\" style=\"height:525px; width:100%;\"></div>\n",
       "            <script type=\"text/javascript\">\n",
       "                require([\"plotly\"], function(Plotly) {\n",
       "                    window.PLOTLYENV=window.PLOTLYENV || {};\n",
       "                    \n",
       "                if (document.getElementById(\"4044be65-ff14-4b2a-9f7e-04f0561ef4ac\")) {\n",
       "                    Plotly.newPlot(\n",
       "                        '4044be65-ff14-4b2a-9f7e-04f0561ef4ac',\n",
       "                        [{\"hovertemplate\": \"color=\\u65b0\\u7af9\\u5e02<br>\\u6578\\u5b78\\u88dc\\u5f37\\u7387=%{x}<br>\\u82f1\\u6587\\u88dc\\u5f37\\u7387=%{y}<extra></extra>\", \"legendgroup\": \"\\u65b0\\u7af9\\u5e02\", \"marker\": {\"color\": \"#636efa\", \"symbol\": \"circle\"}, \"mode\": \"markers\", \"name\": \"\\u65b0\\u7af9\\u5e02\", \"showlegend\": true, \"type\": \"scatter\", \"x\": [0.0], \"xaxis\": \"x\", \"y\": [0.0], \"yaxis\": \"y\"}, {\"hovertemplate\": \"color=\\u5c4f\\u6771\\u7e23<br>\\u6578\\u5b78\\u88dc\\u5f37\\u7387=%{x}<br>\\u82f1\\u6587\\u88dc\\u5f37\\u7387=%{y}<extra></extra>\", \"legendgroup\": \"\\u5c4f\\u6771\\u7e23\", \"marker\": {\"color\": \"#EF553B\", \"symbol\": \"circle\"}, \"mode\": \"markers\", \"name\": \"\\u5c4f\\u6771\\u7e23\", \"showlegend\": true, \"type\": \"scatter\", \"x\": [0.125], \"xaxis\": \"x\", \"y\": [0.1875], \"yaxis\": \"y\"}, {\"hovertemplate\": \"color=\\u5f70\\u5316\\u7e23<br>\\u6578\\u5b78\\u88dc\\u5f37\\u7387=%{x}<br>\\u82f1\\u6587\\u88dc\\u5f37\\u7387=%{y}<extra></extra>\", \"legendgroup\": \"\\u5f70\\u5316\\u7e23\", \"marker\": {\"color\": \"#00cc96\", \"symbol\": \"circle\"}, \"mode\": \"markers\", \"name\": \"\\u5f70\\u5316\\u7e23\", \"showlegend\": true, \"type\": \"scatter\", \"x\": [0.125], \"xaxis\": \"x\", \"y\": [0.375], \"yaxis\": \"y\"}, {\"hovertemplate\": \"color=\\u5609\\u7fa9\\u7e23<br>\\u6578\\u5b78\\u88dc\\u5f37\\u7387=%{x}<br>\\u82f1\\u6587\\u88dc\\u5f37\\u7387=%{y}<extra></extra>\", \"legendgroup\": \"\\u5609\\u7fa9\\u7e23\", \"marker\": {\"color\": \"#ab63fa\", \"symbol\": \"circle\"}, \"mode\": \"markers\", \"name\": \"\\u5609\\u7fa9\\u7e23\", \"showlegend\": true, \"type\": \"scatter\", \"x\": [0.17647058823529413], \"xaxis\": \"x\", \"y\": [0.11764705882352941], \"yaxis\": \"y\"}, {\"hovertemplate\": \"color=\\u65b0\\u5317\\u5e02<br>\\u6578\\u5b78\\u88dc\\u5f37\\u7387=%{x}<br>\\u82f1\\u6587\\u88dc\\u5f37\\u7387=%{y}<extra></extra>\", \"legendgroup\": \"\\u65b0\\u5317\\u5e02\", \"marker\": {\"color\": \"#FFA15A\", \"symbol\": \"circle\"}, \"mode\": \"markers\", \"name\": \"\\u65b0\\u5317\\u5e02\", \"showlegend\": true, \"type\": \"scatter\", \"x\": [0.18461538461538463], \"xaxis\": \"x\", \"y\": [0.18461538461538463], \"yaxis\": \"y\"}, {\"hovertemplate\": \"color=\\u81fa\\u4e2d\\u5e02<br>\\u6578\\u5b78\\u88dc\\u5f37\\u7387=%{x}<br>\\u82f1\\u6587\\u88dc\\u5f37\\u7387=%{y}<extra></extra>\", \"legendgroup\": \"\\u81fa\\u4e2d\\u5e02\", \"marker\": {\"color\": \"#19d3f3\", \"symbol\": \"circle\"}, \"mode\": \"markers\", \"name\": \"\\u81fa\\u4e2d\\u5e02\", \"showlegend\": true, \"type\": \"scatter\", \"x\": [0.1864406779661017], \"xaxis\": \"x\", \"y\": [0.15254237288135594], \"yaxis\": \"y\"}, {\"hovertemplate\": \"color=\\u6843\\u5712\\u5e02<br>\\u6578\\u5b78\\u88dc\\u5f37\\u7387=%{x}<br>\\u82f1\\u6587\\u88dc\\u5f37\\u7387=%{y}<extra></extra>\", \"legendgroup\": \"\\u6843\\u5712\\u5e02\", \"marker\": {\"color\": \"#FF6692\", \"symbol\": \"circle\"}, \"mode\": \"markers\", \"name\": \"\\u6843\\u5712\\u5e02\", \"showlegend\": true, \"type\": \"scatter\", \"x\": [0.1951219512195122], \"xaxis\": \"x\", \"y\": [0.1951219512195122], \"yaxis\": \"y\"}, {\"hovertemplate\": \"color=\\u96f2\\u6797\\u7e23<br>\\u6578\\u5b78\\u88dc\\u5f37\\u7387=%{x}<br>\\u82f1\\u6587\\u88dc\\u5f37\\u7387=%{y}<extra></extra>\", \"legendgroup\": \"\\u96f2\\u6797\\u7e23\", \"marker\": {\"color\": \"#B6E880\", \"symbol\": \"circle\"}, \"mode\": \"markers\", \"name\": \"\\u96f2\\u6797\\u7e23\", \"showlegend\": true, \"type\": \"scatter\", \"x\": [0.24], \"xaxis\": \"x\", \"y\": [0.32], \"yaxis\": \"y\"}, {\"hovertemplate\": \"color=\\u9ad8\\u96c4\\u5e02<br>\\u6578\\u5b78\\u88dc\\u5f37\\u7387=%{x}<br>\\u82f1\\u6587\\u88dc\\u5f37\\u7387=%{y}<extra></extra>\", \"legendgroup\": \"\\u9ad8\\u96c4\\u5e02\", \"marker\": {\"color\": \"#FF97FF\", \"symbol\": \"circle\"}, \"mode\": \"markers\", \"name\": \"\\u9ad8\\u96c4\\u5e02\", \"showlegend\": true, \"type\": \"scatter\", \"x\": [0.24489795918367346], \"xaxis\": \"x\", \"y\": [0.24489795918367346], \"yaxis\": \"y\"}, {\"hovertemplate\": \"color=\\u57fa\\u9686\\u5e02<br>\\u6578\\u5b78\\u88dc\\u5f37\\u7387=%{x}<br>\\u82f1\\u6587\\u88dc\\u5f37\\u7387=%{y}<extra></extra>\", \"legendgroup\": \"\\u57fa\\u9686\\u5e02\", \"marker\": {\"color\": \"#FECB52\", \"symbol\": \"circle\"}, \"mode\": \"markers\", \"name\": \"\\u57fa\\u9686\\u5e02\", \"showlegend\": true, \"type\": \"scatter\", \"x\": [0.25], \"xaxis\": \"x\", \"y\": [0.2857142857142857], \"yaxis\": \"y\"}, {\"hovertemplate\": \"color=\\u81fa\\u5317\\u5e02<br>\\u6578\\u5b78\\u88dc\\u5f37\\u7387=%{x}<br>\\u82f1\\u6587\\u88dc\\u5f37\\u7387=%{y}<extra></extra>\", \"legendgroup\": \"\\u81fa\\u5317\\u5e02\", \"marker\": {\"color\": \"#636efa\", \"symbol\": \"circle\"}, \"mode\": \"markers\", \"name\": \"\\u81fa\\u5317\\u5e02\", \"showlegend\": true, \"type\": \"scatter\", \"x\": [0.265], \"xaxis\": \"x\", \"y\": [0.22], \"yaxis\": \"y\"}, {\"hovertemplate\": \"color=\\u5b9c\\u862d\\u7e23<br>\\u6578\\u5b78\\u88dc\\u5f37\\u7387=%{x}<br>\\u82f1\\u6587\\u88dc\\u5f37\\u7387=%{y}<extra></extra>\", \"legendgroup\": \"\\u5b9c\\u862d\\u7e23\", \"marker\": {\"color\": \"#EF553B\", \"symbol\": \"circle\"}, \"mode\": \"markers\", \"name\": \"\\u5b9c\\u862d\\u7e23\", \"showlegend\": true, \"type\": \"scatter\", \"x\": [0.26666666666666666], \"xaxis\": \"x\", \"y\": [0.26666666666666666], \"yaxis\": \"y\"}, {\"hovertemplate\": \"color=\\u82b1\\u84ee\\u7e23<br>\\u6578\\u5b78\\u88dc\\u5f37\\u7387=%{x}<br>\\u82f1\\u6587\\u88dc\\u5f37\\u7387=%{y}<extra></extra>\", \"legendgroup\": \"\\u82b1\\u84ee\\u7e23\", \"marker\": {\"color\": \"#00cc96\", \"symbol\": \"circle\"}, \"mode\": \"markers\", \"name\": \"\\u82b1\\u84ee\\u7e23\", \"showlegend\": true, \"type\": \"scatter\", \"x\": [0.2857142857142857], \"xaxis\": \"x\", \"y\": [0.5714285714285714], \"yaxis\": \"y\"}, {\"hovertemplate\": \"color=\\u81fa\\u5357\\u5e02<br>\\u6578\\u5b78\\u88dc\\u5f37\\u7387=%{x}<br>\\u82f1\\u6587\\u88dc\\u5f37\\u7387=%{y}<extra></extra>\", \"legendgroup\": \"\\u81fa\\u5357\\u5e02\", \"marker\": {\"color\": \"#ab63fa\", \"symbol\": \"circle\"}, \"mode\": \"markers\", \"name\": \"\\u81fa\\u5357\\u5e02\", \"showlegend\": true, \"type\": \"scatter\", \"x\": [0.3181818181818182], \"xaxis\": \"x\", \"y\": [0.2727272727272727], \"yaxis\": \"y\"}, {\"hovertemplate\": \"color=\\u5357\\u6295\\u7e23<br>\\u6578\\u5b78\\u88dc\\u5f37\\u7387=%{x}<br>\\u82f1\\u6587\\u88dc\\u5f37\\u7387=%{y}<extra></extra>\", \"legendgroup\": \"\\u5357\\u6295\\u7e23\", \"marker\": {\"color\": \"#FFA15A\", \"symbol\": \"circle\"}, \"mode\": \"markers\", \"name\": \"\\u5357\\u6295\\u7e23\", \"showlegend\": true, \"type\": \"scatter\", \"x\": [0.32], \"xaxis\": \"x\", \"y\": [0.16], \"yaxis\": \"y\"}, {\"hovertemplate\": \"color=\\u5609\\u7fa9\\u5e02<br>\\u6578\\u5b78\\u88dc\\u5f37\\u7387=%{x}<br>\\u82f1\\u6587\\u88dc\\u5f37\\u7387=%{y}<extra></extra>\", \"legendgroup\": \"\\u5609\\u7fa9\\u5e02\", \"marker\": {\"color\": \"#19d3f3\", \"symbol\": \"circle\"}, \"mode\": \"markers\", \"name\": \"\\u5609\\u7fa9\\u5e02\", \"showlegend\": true, \"type\": \"scatter\", \"x\": [0.3333333333333333], \"xaxis\": \"x\", \"y\": [0.3333333333333333], \"yaxis\": \"y\"}, {\"hovertemplate\": \"color=\\u65b0\\u7af9\\u7e23<br>\\u6578\\u5b78\\u88dc\\u5f37\\u7387=%{x}<br>\\u82f1\\u6587\\u88dc\\u5f37\\u7387=%{y}<extra></extra>\", \"legendgroup\": \"\\u65b0\\u7af9\\u7e23\", \"marker\": {\"color\": \"#FF6692\", \"symbol\": \"circle\"}, \"mode\": \"markers\", \"name\": \"\\u65b0\\u7af9\\u7e23\", \"showlegend\": true, \"type\": \"scatter\", \"x\": [0.3333333333333333], \"xaxis\": \"x\", \"y\": [0.3333333333333333], \"yaxis\": \"y\"}, {\"hovertemplate\": \"color=\\u81fa\\u6771\\u7e23<br>\\u6578\\u5b78\\u88dc\\u5f37\\u7387=%{x}<br>\\u82f1\\u6587\\u88dc\\u5f37\\u7387=%{y}<extra></extra>\", \"legendgroup\": \"\\u81fa\\u6771\\u7e23\", \"marker\": {\"color\": \"#B6E880\", \"symbol\": \"circle\"}, \"mode\": \"markers\", \"name\": \"\\u81fa\\u6771\\u7e23\", \"showlegend\": true, \"type\": \"scatter\", \"x\": [0.5], \"xaxis\": \"x\", \"y\": [0.5], \"yaxis\": \"y\"}],\n",
       "                        {\"legend\": {\"title\": {\"text\": \"color\"}, \"tracegroupgap\": 0}, \"margin\": {\"t\": 60}, \"template\": {\"data\": {\"bar\": [{\"error_x\": {\"color\": \"#2a3f5f\"}, \"error_y\": {\"color\": \"#2a3f5f\"}, \"marker\": {\"line\": {\"color\": \"#E5ECF6\", \"width\": 0.5}}, \"type\": \"bar\"}], \"barpolar\": [{\"marker\": {\"line\": {\"color\": \"#E5ECF6\", \"width\": 0.5}}, \"type\": \"barpolar\"}], \"carpet\": [{\"aaxis\": {\"endlinecolor\": \"#2a3f5f\", \"gridcolor\": \"white\", \"linecolor\": \"white\", \"minorgridcolor\": \"white\", \"startlinecolor\": \"#2a3f5f\"}, \"baxis\": {\"endlinecolor\": \"#2a3f5f\", \"gridcolor\": \"white\", \"linecolor\": \"white\", \"minorgridcolor\": \"white\", \"startlinecolor\": \"#2a3f5f\"}, \"type\": \"carpet\"}], \"choropleth\": [{\"colorbar\": {\"outlinewidth\": 0, \"ticks\": \"\"}, \"type\": \"choropleth\"}], \"contour\": [{\"colorbar\": {\"outlinewidth\": 0, \"ticks\": \"\"}, \"colorscale\": [[0.0, \"#0d0887\"], [0.1111111111111111, \"#46039f\"], [0.2222222222222222, \"#7201a8\"], [0.3333333333333333, \"#9c179e\"], [0.4444444444444444, \"#bd3786\"], [0.5555555555555556, \"#d8576b\"], [0.6666666666666666, \"#ed7953\"], [0.7777777777777778, \"#fb9f3a\"], [0.8888888888888888, \"#fdca26\"], [1.0, \"#f0f921\"]], \"type\": \"contour\"}], \"contourcarpet\": [{\"colorbar\": {\"outlinewidth\": 0, \"ticks\": \"\"}, \"type\": \"contourcarpet\"}], \"heatmap\": [{\"colorbar\": {\"outlinewidth\": 0, \"ticks\": \"\"}, \"colorscale\": [[0.0, \"#0d0887\"], [0.1111111111111111, \"#46039f\"], [0.2222222222222222, \"#7201a8\"], [0.3333333333333333, \"#9c179e\"], [0.4444444444444444, \"#bd3786\"], [0.5555555555555556, \"#d8576b\"], [0.6666666666666666, \"#ed7953\"], [0.7777777777777778, \"#fb9f3a\"], [0.8888888888888888, \"#fdca26\"], [1.0, \"#f0f921\"]], \"type\": \"heatmap\"}], \"heatmapgl\": [{\"colorbar\": {\"outlinewidth\": 0, \"ticks\": \"\"}, \"colorscale\": [[0.0, \"#0d0887\"], [0.1111111111111111, \"#46039f\"], [0.2222222222222222, \"#7201a8\"], [0.3333333333333333, \"#9c179e\"], [0.4444444444444444, \"#bd3786\"], [0.5555555555555556, \"#d8576b\"], [0.6666666666666666, \"#ed7953\"], [0.7777777777777778, \"#fb9f3a\"], [0.8888888888888888, \"#fdca26\"], [1.0, \"#f0f921\"]], \"type\": \"heatmapgl\"}], \"histogram\": [{\"marker\": {\"colorbar\": {\"outlinewidth\": 0, \"ticks\": \"\"}}, \"type\": \"histogram\"}], \"histogram2d\": [{\"colorbar\": {\"outlinewidth\": 0, \"ticks\": \"\"}, \"colorscale\": [[0.0, \"#0d0887\"], [0.1111111111111111, \"#46039f\"], [0.2222222222222222, \"#7201a8\"], [0.3333333333333333, \"#9c179e\"], [0.4444444444444444, \"#bd3786\"], [0.5555555555555556, \"#d8576b\"], [0.6666666666666666, \"#ed7953\"], [0.7777777777777778, \"#fb9f3a\"], [0.8888888888888888, \"#fdca26\"], [1.0, \"#f0f921\"]], \"type\": \"histogram2d\"}], \"histogram2dcontour\": [{\"colorbar\": {\"outlinewidth\": 0, \"ticks\": \"\"}, \"colorscale\": [[0.0, \"#0d0887\"], [0.1111111111111111, \"#46039f\"], [0.2222222222222222, \"#7201a8\"], [0.3333333333333333, \"#9c179e\"], [0.4444444444444444, \"#bd3786\"], [0.5555555555555556, \"#d8576b\"], [0.6666666666666666, \"#ed7953\"], [0.7777777777777778, \"#fb9f3a\"], [0.8888888888888888, \"#fdca26\"], [1.0, \"#f0f921\"]], \"type\": \"histogram2dcontour\"}], \"mesh3d\": [{\"colorbar\": {\"outlinewidth\": 0, \"ticks\": \"\"}, \"type\": \"mesh3d\"}], \"parcoords\": [{\"line\": {\"colorbar\": {\"outlinewidth\": 0, \"ticks\": \"\"}}, \"type\": \"parcoords\"}], \"pie\": [{\"automargin\": true, \"type\": \"pie\"}], \"scatter\": [{\"marker\": {\"colorbar\": {\"outlinewidth\": 0, \"ticks\": \"\"}}, \"type\": \"scatter\"}], \"scatter3d\": [{\"line\": {\"colorbar\": {\"outlinewidth\": 0, \"ticks\": \"\"}}, \"marker\": {\"colorbar\": {\"outlinewidth\": 0, \"ticks\": \"\"}}, \"type\": \"scatter3d\"}], \"scattercarpet\": [{\"marker\": {\"colorbar\": {\"outlinewidth\": 0, \"ticks\": \"\"}}, \"type\": \"scattercarpet\"}], \"scattergeo\": [{\"marker\": {\"colorbar\": {\"outlinewidth\": 0, \"ticks\": \"\"}}, \"type\": \"scattergeo\"}], \"scattergl\": [{\"marker\": {\"colorbar\": {\"outlinewidth\": 0, \"ticks\": \"\"}}, \"type\": \"scattergl\"}], \"scattermapbox\": [{\"marker\": {\"colorbar\": {\"outlinewidth\": 0, \"ticks\": \"\"}}, \"type\": \"scattermapbox\"}], \"scatterpolar\": [{\"marker\": {\"colorbar\": {\"outlinewidth\": 0, \"ticks\": \"\"}}, \"type\": \"scatterpolar\"}], \"scatterpolargl\": [{\"marker\": {\"colorbar\": {\"outlinewidth\": 0, \"ticks\": \"\"}}, \"type\": \"scatterpolargl\"}], \"scatterternary\": [{\"marker\": {\"colorbar\": {\"outlinewidth\": 0, \"ticks\": \"\"}}, \"type\": \"scatterternary\"}], \"surface\": [{\"colorbar\": {\"outlinewidth\": 0, \"ticks\": \"\"}, \"colorscale\": [[0.0, \"#0d0887\"], [0.1111111111111111, \"#46039f\"], [0.2222222222222222, \"#7201a8\"], [0.3333333333333333, \"#9c179e\"], [0.4444444444444444, \"#bd3786\"], [0.5555555555555556, \"#d8576b\"], [0.6666666666666666, \"#ed7953\"], [0.7777777777777778, \"#fb9f3a\"], [0.8888888888888888, \"#fdca26\"], [1.0, \"#f0f921\"]], \"type\": \"surface\"}], \"table\": [{\"cells\": {\"fill\": {\"color\": \"#EBF0F8\"}, \"line\": {\"color\": \"white\"}}, \"header\": {\"fill\": {\"color\": \"#C8D4E3\"}, \"line\": {\"color\": \"white\"}}, \"type\": \"table\"}]}, \"layout\": {\"annotationdefaults\": {\"arrowcolor\": \"#2a3f5f\", \"arrowhead\": 0, \"arrowwidth\": 1}, \"coloraxis\": {\"colorbar\": {\"outlinewidth\": 0, \"ticks\": \"\"}}, \"colorscale\": {\"diverging\": [[0, \"#8e0152\"], [0.1, \"#c51b7d\"], [0.2, \"#de77ae\"], [0.3, \"#f1b6da\"], [0.4, \"#fde0ef\"], [0.5, \"#f7f7f7\"], [0.6, \"#e6f5d0\"], [0.7, \"#b8e186\"], [0.8, \"#7fbc41\"], [0.9, \"#4d9221\"], [1, \"#276419\"]], \"sequential\": [[0.0, \"#0d0887\"], [0.1111111111111111, \"#46039f\"], [0.2222222222222222, \"#7201a8\"], [0.3333333333333333, \"#9c179e\"], [0.4444444444444444, \"#bd3786\"], [0.5555555555555556, \"#d8576b\"], [0.6666666666666666, \"#ed7953\"], [0.7777777777777778, \"#fb9f3a\"], [0.8888888888888888, \"#fdca26\"], [1.0, \"#f0f921\"]], \"sequentialminus\": [[0.0, \"#0d0887\"], [0.1111111111111111, \"#46039f\"], [0.2222222222222222, \"#7201a8\"], [0.3333333333333333, \"#9c179e\"], [0.4444444444444444, \"#bd3786\"], [0.5555555555555556, \"#d8576b\"], [0.6666666666666666, \"#ed7953\"], [0.7777777777777778, \"#fb9f3a\"], [0.8888888888888888, \"#fdca26\"], [1.0, \"#f0f921\"]]}, \"colorway\": [\"#636efa\", \"#EF553B\", \"#00cc96\", \"#ab63fa\", \"#FFA15A\", \"#19d3f3\", \"#FF6692\", \"#B6E880\", \"#FF97FF\", \"#FECB52\"], \"font\": {\"color\": \"#2a3f5f\"}, \"geo\": {\"bgcolor\": \"white\", \"lakecolor\": \"white\", \"landcolor\": \"#E5ECF6\", \"showlakes\": true, \"showland\": true, \"subunitcolor\": \"white\"}, \"hoverlabel\": {\"align\": \"left\"}, \"hovermode\": \"closest\", \"mapbox\": {\"style\": \"light\"}, \"paper_bgcolor\": \"white\", \"plot_bgcolor\": \"#E5ECF6\", \"polar\": {\"angularaxis\": {\"gridcolor\": \"white\", \"linecolor\": \"white\", \"ticks\": \"\"}, \"bgcolor\": \"#E5ECF6\", \"radialaxis\": {\"gridcolor\": \"white\", \"linecolor\": \"white\", \"ticks\": \"\"}}, \"scene\": {\"xaxis\": {\"backgroundcolor\": \"#E5ECF6\", \"gridcolor\": \"white\", \"gridwidth\": 2, \"linecolor\": \"white\", \"showbackground\": true, \"ticks\": \"\", \"zerolinecolor\": \"white\"}, \"yaxis\": {\"backgroundcolor\": \"#E5ECF6\", \"gridcolor\": \"white\", \"gridwidth\": 2, \"linecolor\": \"white\", \"showbackground\": true, \"ticks\": \"\", \"zerolinecolor\": \"white\"}, \"zaxis\": {\"backgroundcolor\": \"#E5ECF6\", \"gridcolor\": \"white\", \"gridwidth\": 2, \"linecolor\": \"white\", \"showbackground\": true, \"ticks\": \"\", \"zerolinecolor\": \"white\"}}, \"shapedefaults\": {\"line\": {\"color\": \"#2a3f5f\"}}, \"ternary\": {\"aaxis\": {\"gridcolor\": \"white\", \"linecolor\": \"white\", \"ticks\": \"\"}, \"baxis\": {\"gridcolor\": \"white\", \"linecolor\": \"white\", \"ticks\": \"\"}, \"bgcolor\": \"#E5ECF6\", \"caxis\": {\"gridcolor\": \"white\", \"linecolor\": \"white\", \"ticks\": \"\"}}, \"title\": {\"x\": 0.05}, \"xaxis\": {\"automargin\": true, \"gridcolor\": \"white\", \"linecolor\": \"white\", \"ticks\": \"\", \"title\": {\"standoff\": 15}, \"zerolinecolor\": \"white\", \"zerolinewidth\": 2}, \"yaxis\": {\"automargin\": true, \"gridcolor\": \"white\", \"linecolor\": \"white\", \"ticks\": \"\", \"title\": {\"standoff\": 15}, \"zerolinecolor\": \"white\", \"zerolinewidth\": 2}}}, \"xaxis\": {\"anchor\": \"y\", \"domain\": [0.0, 1.0], \"title\": {\"text\": \"\\u6578\\u5b78\\u88dc\\u5f37\\u7387\"}}, \"yaxis\": {\"anchor\": \"x\", \"domain\": [0.0, 1.0], \"title\": {\"text\": \"\\u82f1\\u6587\\u88dc\\u5f37\\u7387\"}}},\n",
       "                        {\"responsive\": true}\n",
       "                    ).then(function(){\n",
       "                            \n",
       "var gd = document.getElementById('4044be65-ff14-4b2a-9f7e-04f0561ef4ac');\n",
       "var x = new MutationObserver(function (mutations, observer) {{\n",
       "        var display = window.getComputedStyle(gd).display;\n",
       "        if (!display || display === 'none') {{\n",
       "            console.log([gd, 'removed!']);\n",
       "            Plotly.purge(gd);\n",
       "            observer.disconnect();\n",
       "        }}\n",
       "}});\n",
       "\n",
       "// Listen for the removal of the full notebook cells\n",
       "var notebookContainer = gd.closest('#notebook-container');\n",
       "if (notebookContainer) {{\n",
       "    x.observe(notebookContainer, {childList: true});\n",
       "}}\n",
       "\n",
       "// Listen for the clearing of the current output cell\n",
       "var outputEl = gd.closest('.output');\n",
       "if (outputEl) {{\n",
       "    x.observe(outputEl, {childList: true});\n",
       "}}\n",
       "\n",
       "                        })\n",
       "                };\n",
       "                });\n",
       "            </script>\n",
       "        </div>"
      ]
     },
     "metadata": {},
     "output_type": "display_data"
    }
   ],
   "source": [
    "import plotly.express as px\n",
    "fig = px.scatter(rate, x=\"數學補強率\", y=\"英文補強率\", color=rate.index)\n",
    "fig.show()"
   ]
  },
  {
   "cell_type": "code",
   "execution_count": null,
   "metadata": {},
   "outputs": [],
   "source": []
  }
 ],
 "metadata": {
  "kernelspec": {
   "display_name": "Python 3",
   "language": "python",
   "name": "python3"
  },
  "language_info": {
   "codemirror_mode": {
    "name": "ipython",
    "version": 3
   },
   "file_extension": ".py",
   "mimetype": "text/x-python",
   "name": "python",
   "nbconvert_exporter": "python",
   "pygments_lexer": "ipython3",
   "version": "3.7.7"
  }
 },
 "nbformat": 4,
 "nbformat_minor": 2
}
